{
 "cells": [
  {
   "cell_type": "markdown",
   "id": "2a3fdb8b",
   "metadata": {},
   "source": [
    "##### Import libraries"
   ]
  },
  {
   "cell_type": "code",
   "execution_count": 106,
   "id": "7dc80a85",
   "metadata": {},
   "outputs": [],
   "source": [
    "import pandas as pd\n",
    "import numpy as np\n",
    "import matplotlib.pyplot as plt\n",
    "import seaborn as sns\n",
    "import statsmodels.api as sm\n",
    "import statsmodels.formula.api as smf\n",
    "import statsmodels.stats.api as sms\n",
    "import statsmodels.stats.multitest as sm\n",
    "import statsmodels.stats.proportion as smp\n",
    "from sklearn.metrics import accuracy_score,classification_report,confusion_matrix, roc_curve, roc_auc_score, precision_score, recall_score, f1_score\n",
    "from sklearn.linear_model import LogisticRegression\n",
    "from sklearn.metrics import ConfusionMatrixDisplay\n",
    "from imblearn.over_sampling import SMOTE\n",
    "from sklearn.tree import DecisionTreeClassifier\n",
    "from sklearn.tree import plot_tree\n",
    "from sklearn.neighbors import KNeighborsClassifier\n",
    "from sklearn.ensemble import RandomForestClassifier, GradientBoostingClassifier\n",
    "from sklearn.neural_network import MLPClassifier\n",
    "from sklearn.naive_bayes import GaussianNB\n",
    "from sklearn.model_selection import GridSearchCV, RandomizedSearchCV\n",
    "from sklearn.svm import SVC\n"
   ]
  },
  {
   "cell_type": "markdown",
   "id": "e3d915b9",
   "metadata": {},
   "source": [
    "# 1. Data Preprocessing"
   ]
  },
  {
   "cell_type": "markdown",
   "id": "31c0998e",
   "metadata": {},
   "source": [
    "##### Load Dataset"
   ]
  },
  {
   "cell_type": "code",
   "execution_count": 107,
   "id": "d231e95b",
   "metadata": {},
   "outputs": [],
   "source": [
    "data = pd.ExcelFile(\"/Users/yawdapaa/Customer_Churn_Data_Large.xlsx\")"
   ]
  },
  {
   "cell_type": "markdown",
   "id": "0983214b",
   "metadata": {},
   "source": [
    "##### Preview each sheet in the Excel file"
   ]
  },
  {
   "cell_type": "code",
   "execution_count": 108,
   "id": "d83a2413",
   "metadata": {},
   "outputs": [
    {
     "data": {
      "text/plain": [
       "{'Customer_Demographics':    CustomerID  Age Gender MaritalStatus IncomeLevel\n",
       " 0           1   62      M        Single         Low\n",
       " 1           2   65      M       Married         Low\n",
       " 2           3   18      M        Single         Low\n",
       " 3           4   21      M       Widowed         Low\n",
       " 4           5   21      M      Divorced      Medium,\n",
       " 'Transaction_History':    CustomerID  TransactionID TransactionDate  AmountSpent ProductCategory\n",
       " 0           1           7194      2022-03-27       416.50     Electronics\n",
       " 1           2           7250      2022-08-08        54.96        Clothing\n",
       " 2           2           9660      2022-07-25       197.50     Electronics\n",
       " 3           2           2998      2022-01-25       101.31       Furniture\n",
       " 4           2           1228      2022-07-24       397.37        Clothing,\n",
       " 'Customer_Service':    CustomerID  InteractionID InteractionDate InteractionType ResolutionStatus\n",
       " 0           1           6363      2022-03-31         Inquiry         Resolved\n",
       " 1           2           3329      2022-03-17         Inquiry         Resolved\n",
       " 2           3           9976      2022-08-24         Inquiry         Resolved\n",
       " 3           4           7354      2022-11-18         Inquiry         Resolved\n",
       " 4           4           5393      2022-07-03         Inquiry       Unresolved,\n",
       " 'Online_Activity':    CustomerID LastLoginDate  LoginFrequency ServiceUsage\n",
       " 0           1    2023-10-21              34   Mobile App\n",
       " 1           2    2023-12-05               5      Website\n",
       " 2           3    2023-11-15               3      Website\n",
       " 3           4    2023-08-25               2      Website\n",
       " 4           5    2023-10-27              41      Website,\n",
       " 'Churn_Status':    CustomerID  ChurnStatus\n",
       " 0           1            0\n",
       " 1           2            1\n",
       " 2           3            0\n",
       " 3           4            0\n",
       " 4           5            0}"
      ]
     },
     "execution_count": 108,
     "metadata": {},
     "output_type": "execute_result"
    }
   ],
   "source": [
    "# Load and preview each sheet to understand its contents\n",
    "demo_df = data.parse('Customer_Demographics')\n",
    "trans_df = data.parse('Transaction_History')\n",
    "service_df = data.parse('Customer_Service')\n",
    "online_df = data.parse('Online_Activity')\n",
    "churn_df = data.parse('Churn_Status')\n",
    "\n",
    "# Preview the first few rows of each dataset\n",
    "{\n",
    "    \"Customer_Demographics\": demo_df.head(),\n",
    "    \"Transaction_History\": trans_df.head(),\n",
    "    \"Customer_Service\": service_df.head(),\n",
    "    \"Online_Activity\": online_df.head(),\n",
    "    \"Churn_Status\": churn_df.head()\n",
    "}"
   ]
  },
  {
   "cell_type": "markdown",
   "id": "7c78d3f3",
   "metadata": {},
   "source": [
    "##### Shape of Data in each sheet"
   ]
  },
  {
   "cell_type": "code",
   "execution_count": 109,
   "id": "2edc0efd",
   "metadata": {},
   "outputs": [
    {
     "data": {
      "text/plain": [
       "{'Customer_Demographics': (1000, 5),\n",
       " 'Transaction_History': (5054, 5),\n",
       " 'Customer_Service': (1002, 5),\n",
       " 'Online_Activity': (1000, 4),\n",
       " 'Churn_Status': (1000, 2)}"
      ]
     },
     "execution_count": 109,
     "metadata": {},
     "output_type": "execute_result"
    }
   ],
   "source": [
    "# shape of each dataset\n",
    "{\n",
    "    \"Customer_Demographics\": demo_df.shape,\n",
    "    \"Transaction_History\": trans_df.shape,\n",
    "    \"Customer_Service\": service_df.shape,\n",
    "    \"Online_Activity\": online_df.shape,\n",
    "    \"Churn_Status\": churn_df.shape\n",
    "}"
   ]
  },
  {
   "cell_type": "markdown",
   "id": "5094735c",
   "metadata": {},
   "source": [
    "##### Summarize each dataset by CustomerID to prepare for merging\n",
    "###### Since Customer_Demographics is the main table and has the since number of rows as Online_Activity and Churn_Status, we will summarize the other two datasets(Transaction_History & Customer_Service) by CustomerID to prepare for merging."
   ]
  },
  {
   "cell_type": "code",
   "execution_count": 110,
   "id": "1dac48f7",
   "metadata": {},
   "outputs": [],
   "source": [
    "# Summarize transaction history\n",
    "trans_summary = trans_df.groupby(\"CustomerID\").agg({\n",
    "    \"AmountSpent\": [\"sum\", \"mean\", \"count\"],\n",
    "    \"TransactionDate\": \"max\"\n",
    "}).reset_index()\n",
    "trans_summary.columns = [\"CustomerID\", \"TotalSpent\", \"AvgSpent\", \"TransactionCount\", \"LastTransactionDate\"]"
   ]
  },
  {
   "cell_type": "code",
   "execution_count": 111,
   "id": "ba0e58a1",
   "metadata": {},
   "outputs": [],
   "source": [
    "# Summarize customer service interactions\n",
    "service_summary = service_df.groupby(\"CustomerID\").agg({\n",
    "    \"InteractionID\": \"count\",\n",
    "    \"InteractionType\": lambda x: (x == \"Complaint\").sum(),\n",
    "    \"ResolutionStatus\": lambda x: (x == \"Unresolved\").sum()\n",
    "}).reset_index()\n",
    "service_summary.columns = [\"CustomerID\", \"ServiceInteractions\", \"InteractionType\", \"UnresolvedIssues\"]"
   ]
  },
  {
   "cell_type": "markdown",
   "id": "cd903107",
   "metadata": {},
   "source": [
    "##### Merge the sheets into a single DataFrame"
   ]
  },
  {
   "cell_type": "code",
   "execution_count": 112,
   "id": "99a19d5b",
   "metadata": {},
   "outputs": [
    {
     "data": {
      "application/vnd.microsoft.datawrangler.viewer.v0+json": {
       "columns": [
        {
         "name": "index",
         "rawType": "int64",
         "type": "integer"
        },
        {
         "name": "CustomerID",
         "rawType": "int64",
         "type": "integer"
        },
        {
         "name": "Age",
         "rawType": "int64",
         "type": "integer"
        },
        {
         "name": "Gender",
         "rawType": "object",
         "type": "string"
        },
        {
         "name": "MaritalStatus",
         "rawType": "object",
         "type": "string"
        },
        {
         "name": "IncomeLevel",
         "rawType": "object",
         "type": "string"
        },
        {
         "name": "TotalSpent",
         "rawType": "float64",
         "type": "float"
        },
        {
         "name": "AvgSpent",
         "rawType": "float64",
         "type": "float"
        },
        {
         "name": "TransactionCount",
         "rawType": "int64",
         "type": "integer"
        },
        {
         "name": "LastTransactionDate",
         "rawType": "datetime64[ns]",
         "type": "datetime"
        },
        {
         "name": "ServiceInteractions",
         "rawType": "float64",
         "type": "float"
        },
        {
         "name": "InteractionType",
         "rawType": "float64",
         "type": "float"
        },
        {
         "name": "UnresolvedIssues",
         "rawType": "float64",
         "type": "float"
        },
        {
         "name": "LastLoginDate",
         "rawType": "datetime64[ns]",
         "type": "datetime"
        },
        {
         "name": "LoginFrequency",
         "rawType": "int64",
         "type": "integer"
        },
        {
         "name": "ServiceUsage",
         "rawType": "object",
         "type": "string"
        },
        {
         "name": "ChurnStatus",
         "rawType": "int64",
         "type": "integer"
        }
       ],
       "conversionMethod": "pd.DataFrame",
       "ref": "252e48b5-9fb7-4863-a0b4-0b5cd7c4148c",
       "rows": [
        [
         "0",
         "1",
         "62",
         "M",
         "Single",
         "Low",
         "416.5",
         "416.5",
         "1",
         "2022-03-27 00:00:00",
         "1.0",
         "0.0",
         "0.0",
         "2023-10-21 00:00:00",
         "34",
         "Mobile App",
         "0"
        ],
        [
         "1",
         "2",
         "65",
         "M",
         "Married",
         "Low",
         "1547.4199999999998",
         "221.05999999999997",
         "7",
         "2022-11-19 00:00:00",
         "1.0",
         "0.0",
         "0.0",
         "2023-12-05 00:00:00",
         "5",
         "Website",
         "1"
        ],
        [
         "2",
         "3",
         "18",
         "M",
         "Single",
         "Low",
         "1702.98",
         "283.83",
         "6",
         "2022-10-08 00:00:00",
         "1.0",
         "0.0",
         "0.0",
         "2023-11-15 00:00:00",
         "3",
         "Website",
         "0"
        ],
        [
         "3",
         "4",
         "21",
         "M",
         "Widowed",
         "Low",
         "917.29",
         "183.458",
         "5",
         "2022-12-27 00:00:00",
         "2.0",
         "0.0",
         "1.0",
         "2023-08-25 00:00:00",
         "2",
         "Website",
         "0"
        ],
        [
         "4",
         "5",
         "21",
         "M",
         "Divorced",
         "Medium",
         "2001.49",
         "250.18625",
         "8",
         "2022-12-21 00:00:00",
         null,
         null,
         null,
         "2023-10-27 00:00:00",
         "41",
         "Website",
         "0"
        ]
       ],
       "shape": {
        "columns": 16,
        "rows": 5
       }
      },
      "text/html": [
       "<div>\n",
       "<style scoped>\n",
       "    .dataframe tbody tr th:only-of-type {\n",
       "        vertical-align: middle;\n",
       "    }\n",
       "\n",
       "    .dataframe tbody tr th {\n",
       "        vertical-align: top;\n",
       "    }\n",
       "\n",
       "    .dataframe thead th {\n",
       "        text-align: right;\n",
       "    }\n",
       "</style>\n",
       "<table border=\"1\" class=\"dataframe\">\n",
       "  <thead>\n",
       "    <tr style=\"text-align: right;\">\n",
       "      <th></th>\n",
       "      <th>CustomerID</th>\n",
       "      <th>Age</th>\n",
       "      <th>Gender</th>\n",
       "      <th>MaritalStatus</th>\n",
       "      <th>IncomeLevel</th>\n",
       "      <th>TotalSpent</th>\n",
       "      <th>AvgSpent</th>\n",
       "      <th>TransactionCount</th>\n",
       "      <th>LastTransactionDate</th>\n",
       "      <th>ServiceInteractions</th>\n",
       "      <th>InteractionType</th>\n",
       "      <th>UnresolvedIssues</th>\n",
       "      <th>LastLoginDate</th>\n",
       "      <th>LoginFrequency</th>\n",
       "      <th>ServiceUsage</th>\n",
       "      <th>ChurnStatus</th>\n",
       "    </tr>\n",
       "  </thead>\n",
       "  <tbody>\n",
       "    <tr>\n",
       "      <th>0</th>\n",
       "      <td>1</td>\n",
       "      <td>62</td>\n",
       "      <td>M</td>\n",
       "      <td>Single</td>\n",
       "      <td>Low</td>\n",
       "      <td>416.50</td>\n",
       "      <td>416.50000</td>\n",
       "      <td>1</td>\n",
       "      <td>2022-03-27</td>\n",
       "      <td>1.0</td>\n",
       "      <td>0.0</td>\n",
       "      <td>0.0</td>\n",
       "      <td>2023-10-21</td>\n",
       "      <td>34</td>\n",
       "      <td>Mobile App</td>\n",
       "      <td>0</td>\n",
       "    </tr>\n",
       "    <tr>\n",
       "      <th>1</th>\n",
       "      <td>2</td>\n",
       "      <td>65</td>\n",
       "      <td>M</td>\n",
       "      <td>Married</td>\n",
       "      <td>Low</td>\n",
       "      <td>1547.42</td>\n",
       "      <td>221.06000</td>\n",
       "      <td>7</td>\n",
       "      <td>2022-11-19</td>\n",
       "      <td>1.0</td>\n",
       "      <td>0.0</td>\n",
       "      <td>0.0</td>\n",
       "      <td>2023-12-05</td>\n",
       "      <td>5</td>\n",
       "      <td>Website</td>\n",
       "      <td>1</td>\n",
       "    </tr>\n",
       "    <tr>\n",
       "      <th>2</th>\n",
       "      <td>3</td>\n",
       "      <td>18</td>\n",
       "      <td>M</td>\n",
       "      <td>Single</td>\n",
       "      <td>Low</td>\n",
       "      <td>1702.98</td>\n",
       "      <td>283.83000</td>\n",
       "      <td>6</td>\n",
       "      <td>2022-10-08</td>\n",
       "      <td>1.0</td>\n",
       "      <td>0.0</td>\n",
       "      <td>0.0</td>\n",
       "      <td>2023-11-15</td>\n",
       "      <td>3</td>\n",
       "      <td>Website</td>\n",
       "      <td>0</td>\n",
       "    </tr>\n",
       "    <tr>\n",
       "      <th>3</th>\n",
       "      <td>4</td>\n",
       "      <td>21</td>\n",
       "      <td>M</td>\n",
       "      <td>Widowed</td>\n",
       "      <td>Low</td>\n",
       "      <td>917.29</td>\n",
       "      <td>183.45800</td>\n",
       "      <td>5</td>\n",
       "      <td>2022-12-27</td>\n",
       "      <td>2.0</td>\n",
       "      <td>0.0</td>\n",
       "      <td>1.0</td>\n",
       "      <td>2023-08-25</td>\n",
       "      <td>2</td>\n",
       "      <td>Website</td>\n",
       "      <td>0</td>\n",
       "    </tr>\n",
       "    <tr>\n",
       "      <th>4</th>\n",
       "      <td>5</td>\n",
       "      <td>21</td>\n",
       "      <td>M</td>\n",
       "      <td>Divorced</td>\n",
       "      <td>Medium</td>\n",
       "      <td>2001.49</td>\n",
       "      <td>250.18625</td>\n",
       "      <td>8</td>\n",
       "      <td>2022-12-21</td>\n",
       "      <td>NaN</td>\n",
       "      <td>NaN</td>\n",
       "      <td>NaN</td>\n",
       "      <td>2023-10-27</td>\n",
       "      <td>41</td>\n",
       "      <td>Website</td>\n",
       "      <td>0</td>\n",
       "    </tr>\n",
       "  </tbody>\n",
       "</table>\n",
       "</div>"
      ],
      "text/plain": [
       "   CustomerID  Age Gender MaritalStatus IncomeLevel  TotalSpent   AvgSpent  \\\n",
       "0           1   62      M        Single         Low      416.50  416.50000   \n",
       "1           2   65      M       Married         Low     1547.42  221.06000   \n",
       "2           3   18      M        Single         Low     1702.98  283.83000   \n",
       "3           4   21      M       Widowed         Low      917.29  183.45800   \n",
       "4           5   21      M      Divorced      Medium     2001.49  250.18625   \n",
       "\n",
       "   TransactionCount LastTransactionDate  ServiceInteractions  InteractionType  \\\n",
       "0                 1          2022-03-27                  1.0              0.0   \n",
       "1                 7          2022-11-19                  1.0              0.0   \n",
       "2                 6          2022-10-08                  1.0              0.0   \n",
       "3                 5          2022-12-27                  2.0              0.0   \n",
       "4                 8          2022-12-21                  NaN              NaN   \n",
       "\n",
       "   UnresolvedIssues LastLoginDate  LoginFrequency ServiceUsage  ChurnStatus  \n",
       "0               0.0    2023-10-21              34   Mobile App            0  \n",
       "1               0.0    2023-12-05               5      Website            1  \n",
       "2               0.0    2023-11-15               3      Website            0  \n",
       "3               1.0    2023-08-25               2      Website            0  \n",
       "4               NaN    2023-10-27              41      Website            0  "
      ]
     },
     "execution_count": 112,
     "metadata": {},
     "output_type": "execute_result"
    }
   ],
   "source": [
    "# Merge all datasets on CustomerID\n",
    "merged_df = demo_df.merge(trans_summary, on=\"CustomerID\", how=\"left\") \\\n",
    "                   .merge(service_summary, on=\"CustomerID\", how=\"left\") \\\n",
    "                   .merge(online_df, on=\"CustomerID\", how=\"left\") \\\n",
    "                   .merge(churn_df, on=\"CustomerID\", how=\"left\")\n",
    "\n",
    "# Preview merged data\n",
    "merged_df.head()"
   ]
  },
  {
   "cell_type": "markdown",
   "id": "c9e0e446",
   "metadata": {},
   "source": [
    "##### Save the merged data to a new Excel file for future use"
   ]
  },
  {
   "cell_type": "code",
   "execution_count": 113,
   "id": "1ebd32d5",
   "metadata": {},
   "outputs": [],
   "source": [
    "merged_df.to_excel(\"/Users/yawdapaa/Merged_Customer_Churn_Data.xlsx\", index=False)"
   ]
  },
  {
   "cell_type": "code",
   "execution_count": null,
   "id": "153b5724",
   "metadata": {},
   "outputs": [],
   "source": []
  },
  {
   "cell_type": "markdown",
   "id": "7f666eaf",
   "metadata": {},
   "source": [
    "# 2. Data Cleaning"
   ]
  },
  {
   "cell_type": "code",
   "execution_count": 114,
   "id": "b98ace09",
   "metadata": {},
   "outputs": [
    {
     "data": {
      "application/vnd.microsoft.datawrangler.viewer.v0+json": {
       "columns": [
        {
         "name": "index",
         "rawType": "int64",
         "type": "integer"
        },
        {
         "name": "CustomerID",
         "rawType": "int64",
         "type": "integer"
        },
        {
         "name": "Age",
         "rawType": "int64",
         "type": "integer"
        },
        {
         "name": "Gender",
         "rawType": "object",
         "type": "string"
        },
        {
         "name": "MaritalStatus",
         "rawType": "object",
         "type": "string"
        },
        {
         "name": "IncomeLevel",
         "rawType": "object",
         "type": "string"
        },
        {
         "name": "TotalSpent",
         "rawType": "float64",
         "type": "float"
        },
        {
         "name": "AvgSpent",
         "rawType": "float64",
         "type": "float"
        },
        {
         "name": "TransactionCount",
         "rawType": "int64",
         "type": "integer"
        },
        {
         "name": "LastTransactionDate",
         "rawType": "datetime64[ns]",
         "type": "datetime"
        },
        {
         "name": "ServiceInteractions",
         "rawType": "float64",
         "type": "float"
        },
        {
         "name": "InteractionType",
         "rawType": "float64",
         "type": "float"
        },
        {
         "name": "UnresolvedIssues",
         "rawType": "float64",
         "type": "float"
        },
        {
         "name": "LastLoginDate",
         "rawType": "datetime64[ns]",
         "type": "datetime"
        },
        {
         "name": "LoginFrequency",
         "rawType": "int64",
         "type": "integer"
        },
        {
         "name": "ServiceUsage",
         "rawType": "object",
         "type": "string"
        },
        {
         "name": "ChurnStatus",
         "rawType": "int64",
         "type": "integer"
        }
       ],
       "conversionMethod": "pd.DataFrame",
       "ref": "1eaff62b-291d-4442-883c-5380e56ee319",
       "rows": [
        [
         "0",
         "1",
         "62",
         "M",
         "Single",
         "Low",
         "416.5",
         "416.5",
         "1",
         "2022-03-27 00:00:00",
         "1.0",
         "0.0",
         "0.0",
         "2023-10-21 00:00:00",
         "34",
         "Mobile App",
         "0"
        ],
        [
         "1",
         "2",
         "65",
         "M",
         "Married",
         "Low",
         "1547.4199999999998",
         "221.05999999999997",
         "7",
         "2022-11-19 00:00:00",
         "1.0",
         "0.0",
         "0.0",
         "2023-12-05 00:00:00",
         "5",
         "Website",
         "1"
        ],
        [
         "2",
         "3",
         "18",
         "M",
         "Single",
         "Low",
         "1702.98",
         "283.83",
         "6",
         "2022-10-08 00:00:00",
         "1.0",
         "0.0",
         "0.0",
         "2023-11-15 00:00:00",
         "3",
         "Website",
         "0"
        ],
        [
         "3",
         "4",
         "21",
         "M",
         "Widowed",
         "Low",
         "917.29",
         "183.458",
         "5",
         "2022-12-27 00:00:00",
         "2.0",
         "0.0",
         "1.0",
         "2023-08-25 00:00:00",
         "2",
         "Website",
         "0"
        ],
        [
         "4",
         "5",
         "21",
         "M",
         "Divorced",
         "Medium",
         "2001.49",
         "250.18625",
         "8",
         "2022-12-21 00:00:00",
         null,
         null,
         null,
         "2023-10-27 00:00:00",
         "41",
         "Website",
         "0"
        ]
       ],
       "shape": {
        "columns": 16,
        "rows": 5
       }
      },
      "text/html": [
       "<div>\n",
       "<style scoped>\n",
       "    .dataframe tbody tr th:only-of-type {\n",
       "        vertical-align: middle;\n",
       "    }\n",
       "\n",
       "    .dataframe tbody tr th {\n",
       "        vertical-align: top;\n",
       "    }\n",
       "\n",
       "    .dataframe thead th {\n",
       "        text-align: right;\n",
       "    }\n",
       "</style>\n",
       "<table border=\"1\" class=\"dataframe\">\n",
       "  <thead>\n",
       "    <tr style=\"text-align: right;\">\n",
       "      <th></th>\n",
       "      <th>CustomerID</th>\n",
       "      <th>Age</th>\n",
       "      <th>Gender</th>\n",
       "      <th>MaritalStatus</th>\n",
       "      <th>IncomeLevel</th>\n",
       "      <th>TotalSpent</th>\n",
       "      <th>AvgSpent</th>\n",
       "      <th>TransactionCount</th>\n",
       "      <th>LastTransactionDate</th>\n",
       "      <th>ServiceInteractions</th>\n",
       "      <th>InteractionType</th>\n",
       "      <th>UnresolvedIssues</th>\n",
       "      <th>LastLoginDate</th>\n",
       "      <th>LoginFrequency</th>\n",
       "      <th>ServiceUsage</th>\n",
       "      <th>ChurnStatus</th>\n",
       "    </tr>\n",
       "  </thead>\n",
       "  <tbody>\n",
       "    <tr>\n",
       "      <th>0</th>\n",
       "      <td>1</td>\n",
       "      <td>62</td>\n",
       "      <td>M</td>\n",
       "      <td>Single</td>\n",
       "      <td>Low</td>\n",
       "      <td>416.50</td>\n",
       "      <td>416.50000</td>\n",
       "      <td>1</td>\n",
       "      <td>2022-03-27</td>\n",
       "      <td>1.0</td>\n",
       "      <td>0.0</td>\n",
       "      <td>0.0</td>\n",
       "      <td>2023-10-21</td>\n",
       "      <td>34</td>\n",
       "      <td>Mobile App</td>\n",
       "      <td>0</td>\n",
       "    </tr>\n",
       "    <tr>\n",
       "      <th>1</th>\n",
       "      <td>2</td>\n",
       "      <td>65</td>\n",
       "      <td>M</td>\n",
       "      <td>Married</td>\n",
       "      <td>Low</td>\n",
       "      <td>1547.42</td>\n",
       "      <td>221.06000</td>\n",
       "      <td>7</td>\n",
       "      <td>2022-11-19</td>\n",
       "      <td>1.0</td>\n",
       "      <td>0.0</td>\n",
       "      <td>0.0</td>\n",
       "      <td>2023-12-05</td>\n",
       "      <td>5</td>\n",
       "      <td>Website</td>\n",
       "      <td>1</td>\n",
       "    </tr>\n",
       "    <tr>\n",
       "      <th>2</th>\n",
       "      <td>3</td>\n",
       "      <td>18</td>\n",
       "      <td>M</td>\n",
       "      <td>Single</td>\n",
       "      <td>Low</td>\n",
       "      <td>1702.98</td>\n",
       "      <td>283.83000</td>\n",
       "      <td>6</td>\n",
       "      <td>2022-10-08</td>\n",
       "      <td>1.0</td>\n",
       "      <td>0.0</td>\n",
       "      <td>0.0</td>\n",
       "      <td>2023-11-15</td>\n",
       "      <td>3</td>\n",
       "      <td>Website</td>\n",
       "      <td>0</td>\n",
       "    </tr>\n",
       "    <tr>\n",
       "      <th>3</th>\n",
       "      <td>4</td>\n",
       "      <td>21</td>\n",
       "      <td>M</td>\n",
       "      <td>Widowed</td>\n",
       "      <td>Low</td>\n",
       "      <td>917.29</td>\n",
       "      <td>183.45800</td>\n",
       "      <td>5</td>\n",
       "      <td>2022-12-27</td>\n",
       "      <td>2.0</td>\n",
       "      <td>0.0</td>\n",
       "      <td>1.0</td>\n",
       "      <td>2023-08-25</td>\n",
       "      <td>2</td>\n",
       "      <td>Website</td>\n",
       "      <td>0</td>\n",
       "    </tr>\n",
       "    <tr>\n",
       "      <th>4</th>\n",
       "      <td>5</td>\n",
       "      <td>21</td>\n",
       "      <td>M</td>\n",
       "      <td>Divorced</td>\n",
       "      <td>Medium</td>\n",
       "      <td>2001.49</td>\n",
       "      <td>250.18625</td>\n",
       "      <td>8</td>\n",
       "      <td>2022-12-21</td>\n",
       "      <td>NaN</td>\n",
       "      <td>NaN</td>\n",
       "      <td>NaN</td>\n",
       "      <td>2023-10-27</td>\n",
       "      <td>41</td>\n",
       "      <td>Website</td>\n",
       "      <td>0</td>\n",
       "    </tr>\n",
       "  </tbody>\n",
       "</table>\n",
       "</div>"
      ],
      "text/plain": [
       "   CustomerID  Age Gender MaritalStatus IncomeLevel  TotalSpent   AvgSpent  \\\n",
       "0           1   62      M        Single         Low      416.50  416.50000   \n",
       "1           2   65      M       Married         Low     1547.42  221.06000   \n",
       "2           3   18      M        Single         Low     1702.98  283.83000   \n",
       "3           4   21      M       Widowed         Low      917.29  183.45800   \n",
       "4           5   21      M      Divorced      Medium     2001.49  250.18625   \n",
       "\n",
       "   TransactionCount LastTransactionDate  ServiceInteractions  InteractionType  \\\n",
       "0                 1          2022-03-27                  1.0              0.0   \n",
       "1                 7          2022-11-19                  1.0              0.0   \n",
       "2                 6          2022-10-08                  1.0              0.0   \n",
       "3                 5          2022-12-27                  2.0              0.0   \n",
       "4                 8          2022-12-21                  NaN              NaN   \n",
       "\n",
       "   UnresolvedIssues LastLoginDate  LoginFrequency ServiceUsage  ChurnStatus  \n",
       "0               0.0    2023-10-21              34   Mobile App            0  \n",
       "1               0.0    2023-12-05               5      Website            1  \n",
       "2               0.0    2023-11-15               3      Website            0  \n",
       "3               1.0    2023-08-25               2      Website            0  \n",
       "4               NaN    2023-10-27              41      Website            0  "
      ]
     },
     "execution_count": 114,
     "metadata": {},
     "output_type": "execute_result"
    }
   ],
   "source": [
    "# Preview merged data\n",
    "merged_df.head()"
   ]
  },
  {
   "cell_type": "code",
   "execution_count": 115,
   "id": "ffc2e4ee",
   "metadata": {},
   "outputs": [
    {
     "data": {
      "text/plain": [
       "(1000, 16)"
      ]
     },
     "execution_count": 115,
     "metadata": {},
     "output_type": "execute_result"
    }
   ],
   "source": [
    "merged_df.shape"
   ]
  },
  {
   "cell_type": "code",
   "execution_count": 116,
   "id": "55a51386",
   "metadata": {},
   "outputs": [
    {
     "name": "stderr",
     "output_type": "stream",
     "text": [
      "/var/folders/b2/7lb8lsn518n1jwswggqzrft00000gn/T/ipykernel_73702/2246092885.py:2: FutureWarning: Treating datetime data as categorical rather than numeric in `.describe` is deprecated and will be removed in a future version of pandas. Specify `datetime_is_numeric=True` to silence this warning and adopt the future behavior now.\n",
      "  merged_df.describe(include='all')\n",
      "/var/folders/b2/7lb8lsn518n1jwswggqzrft00000gn/T/ipykernel_73702/2246092885.py:2: FutureWarning: Treating datetime data as categorical rather than numeric in `.describe` is deprecated and will be removed in a future version of pandas. Specify `datetime_is_numeric=True` to silence this warning and adopt the future behavior now.\n",
      "  merged_df.describe(include='all')\n"
     ]
    },
    {
     "data": {
      "application/vnd.microsoft.datawrangler.viewer.v0+json": {
       "columns": [
        {
         "name": "index",
         "rawType": "object",
         "type": "string"
        },
        {
         "name": "CustomerID",
         "rawType": "float64",
         "type": "float"
        },
        {
         "name": "Age",
         "rawType": "float64",
         "type": "float"
        },
        {
         "name": "Gender",
         "rawType": "object",
         "type": "string"
        },
        {
         "name": "MaritalStatus",
         "rawType": "object",
         "type": "string"
        },
        {
         "name": "IncomeLevel",
         "rawType": "object",
         "type": "string"
        },
        {
         "name": "TotalSpent",
         "rawType": "float64",
         "type": "float"
        },
        {
         "name": "AvgSpent",
         "rawType": "float64",
         "type": "float"
        },
        {
         "name": "TransactionCount",
         "rawType": "float64",
         "type": "float"
        },
        {
         "name": "LastTransactionDate",
         "rawType": "object",
         "type": "string"
        },
        {
         "name": "ServiceInteractions",
         "rawType": "float64",
         "type": "float"
        },
        {
         "name": "InteractionType",
         "rawType": "float64",
         "type": "float"
        },
        {
         "name": "UnresolvedIssues",
         "rawType": "float64",
         "type": "float"
        },
        {
         "name": "LastLoginDate",
         "rawType": "object",
         "type": "string"
        },
        {
         "name": "LoginFrequency",
         "rawType": "float64",
         "type": "float"
        },
        {
         "name": "ServiceUsage",
         "rawType": "object",
         "type": "string"
        },
        {
         "name": "ChurnStatus",
         "rawType": "float64",
         "type": "float"
        }
       ],
       "conversionMethod": "pd.DataFrame",
       "ref": "4bbeeab7-ca90-4c86-b26b-0d516b251e35",
       "rows": [
        [
         "count",
         "1000.0",
         "1000.0",
         "1000",
         "1000",
         "1000",
         "1000.0",
         "1000.0",
         "1000.0",
         "1000",
         "668.0",
         "668.0",
         "668.0",
         "1000",
         "1000.0",
         "1000",
         "1000.0"
        ],
        [
         "unique",
         null,
         null,
         "2",
         "4",
         "3",
         null,
         null,
         null,
         "254",
         null,
         null,
         null,
         "340",
         null,
         "3",
         null
        ],
        [
         "top",
         null,
         null,
         "F",
         "Widowed",
         "High",
         null,
         null,
         null,
         "2022-12-15 00:00:00",
         null,
         null,
         null,
         "2023-09-20 00:00:00",
         null,
         "Online Banking",
         null
        ],
        [
         "freq",
         null,
         null,
         "513",
         "276",
         "349",
         null,
         null,
         null,
         "18",
         null,
         null,
         null,
         "8",
         null,
         "349",
         null
        ],
        [
         "first",
         null,
         null,
         null,
         null,
         null,
         null,
         null,
         null,
         "2022-01-10 00:00:00",
         null,
         null,
         null,
         "2023-01-01 00:00:00",
         null,
         null,
         null
        ],
        [
         "last",
         null,
         null,
         null,
         null,
         null,
         null,
         null,
         null,
         "2022-12-31 00:00:00",
         null,
         null,
         null,
         "2023-12-31 00:00:00",
         null,
         null,
         null
        ],
        [
         "mean",
         "500.5",
         "43.267",
         null,
         null,
         null,
         "1267.0749500000002",
         "248.80651145634923",
         "5.054",
         null,
         "1.5",
         "0.5014970059880239",
         "0.7170658682634731",
         null,
         "25.912",
         null,
         "0.204"
        ],
        [
         "std",
         "288.8194360957494",
         "15.242310816901709",
         null,
         null,
         null,
         "738.5900129656842",
         "79.37276576908995",
         "2.603432707381134",
         null,
         "0.5003746722144349",
         "0.6035856167045963",
         "0.6380318419460178",
         null,
         "14.055953394409991",
         null,
         "0.4031706171666637"
        ],
        [
         "min",
         "1.0",
         "18.0",
         null,
         null,
         null,
         "9.8",
         "9.8",
         "1.0",
         null,
         "1.0",
         "0.0",
         "0.0",
         null,
         "1.0",
         null,
         "0.0"
        ],
        [
         "25%",
         "250.75",
         "30.0",
         null,
         null,
         null,
         "626.685",
         "203.73416666666668",
         "3.0",
         null,
         "1.0",
         "0.0",
         "0.0",
         null,
         "13.75",
         null,
         "0.0"
        ],
        [
         "50%",
         "500.5",
         "43.0",
         null,
         null,
         null,
         "1232.88",
         "250.12145833333332",
         "5.0",
         null,
         "1.5",
         "0.0",
         "1.0",
         null,
         "27.0",
         null,
         "0.0"
        ],
        [
         "75%",
         "750.25",
         "56.0",
         null,
         null,
         null,
         "1791.9025000000001",
         "295.02385416666664",
         "7.0",
         null,
         "2.0",
         "1.0",
         "1.0",
         null,
         "38.0",
         null,
         "0.0"
        ],
        [
         "max",
         "1000.0",
         "69.0",
         null,
         null,
         null,
         "3386.04",
         "496.99",
         "9.0",
         null,
         "2.0",
         "2.0",
         "2.0",
         null,
         "49.0",
         null,
         "1.0"
        ]
       ],
       "shape": {
        "columns": 16,
        "rows": 13
       }
      },
      "text/html": [
       "<div>\n",
       "<style scoped>\n",
       "    .dataframe tbody tr th:only-of-type {\n",
       "        vertical-align: middle;\n",
       "    }\n",
       "\n",
       "    .dataframe tbody tr th {\n",
       "        vertical-align: top;\n",
       "    }\n",
       "\n",
       "    .dataframe thead th {\n",
       "        text-align: right;\n",
       "    }\n",
       "</style>\n",
       "<table border=\"1\" class=\"dataframe\">\n",
       "  <thead>\n",
       "    <tr style=\"text-align: right;\">\n",
       "      <th></th>\n",
       "      <th>CustomerID</th>\n",
       "      <th>Age</th>\n",
       "      <th>Gender</th>\n",
       "      <th>MaritalStatus</th>\n",
       "      <th>IncomeLevel</th>\n",
       "      <th>TotalSpent</th>\n",
       "      <th>AvgSpent</th>\n",
       "      <th>TransactionCount</th>\n",
       "      <th>LastTransactionDate</th>\n",
       "      <th>ServiceInteractions</th>\n",
       "      <th>InteractionType</th>\n",
       "      <th>UnresolvedIssues</th>\n",
       "      <th>LastLoginDate</th>\n",
       "      <th>LoginFrequency</th>\n",
       "      <th>ServiceUsage</th>\n",
       "      <th>ChurnStatus</th>\n",
       "    </tr>\n",
       "  </thead>\n",
       "  <tbody>\n",
       "    <tr>\n",
       "      <th>count</th>\n",
       "      <td>1000.000000</td>\n",
       "      <td>1000.000000</td>\n",
       "      <td>1000</td>\n",
       "      <td>1000</td>\n",
       "      <td>1000</td>\n",
       "      <td>1000.000000</td>\n",
       "      <td>1000.000000</td>\n",
       "      <td>1000.000000</td>\n",
       "      <td>1000</td>\n",
       "      <td>668.000000</td>\n",
       "      <td>668.000000</td>\n",
       "      <td>668.000000</td>\n",
       "      <td>1000</td>\n",
       "      <td>1000.000000</td>\n",
       "      <td>1000</td>\n",
       "      <td>1000.000000</td>\n",
       "    </tr>\n",
       "    <tr>\n",
       "      <th>unique</th>\n",
       "      <td>NaN</td>\n",
       "      <td>NaN</td>\n",
       "      <td>2</td>\n",
       "      <td>4</td>\n",
       "      <td>3</td>\n",
       "      <td>NaN</td>\n",
       "      <td>NaN</td>\n",
       "      <td>NaN</td>\n",
       "      <td>254</td>\n",
       "      <td>NaN</td>\n",
       "      <td>NaN</td>\n",
       "      <td>NaN</td>\n",
       "      <td>340</td>\n",
       "      <td>NaN</td>\n",
       "      <td>3</td>\n",
       "      <td>NaN</td>\n",
       "    </tr>\n",
       "    <tr>\n",
       "      <th>top</th>\n",
       "      <td>NaN</td>\n",
       "      <td>NaN</td>\n",
       "      <td>F</td>\n",
       "      <td>Widowed</td>\n",
       "      <td>High</td>\n",
       "      <td>NaN</td>\n",
       "      <td>NaN</td>\n",
       "      <td>NaN</td>\n",
       "      <td>2022-12-15 00:00:00</td>\n",
       "      <td>NaN</td>\n",
       "      <td>NaN</td>\n",
       "      <td>NaN</td>\n",
       "      <td>2023-09-20 00:00:00</td>\n",
       "      <td>NaN</td>\n",
       "      <td>Online Banking</td>\n",
       "      <td>NaN</td>\n",
       "    </tr>\n",
       "    <tr>\n",
       "      <th>freq</th>\n",
       "      <td>NaN</td>\n",
       "      <td>NaN</td>\n",
       "      <td>513</td>\n",
       "      <td>276</td>\n",
       "      <td>349</td>\n",
       "      <td>NaN</td>\n",
       "      <td>NaN</td>\n",
       "      <td>NaN</td>\n",
       "      <td>18</td>\n",
       "      <td>NaN</td>\n",
       "      <td>NaN</td>\n",
       "      <td>NaN</td>\n",
       "      <td>8</td>\n",
       "      <td>NaN</td>\n",
       "      <td>349</td>\n",
       "      <td>NaN</td>\n",
       "    </tr>\n",
       "    <tr>\n",
       "      <th>first</th>\n",
       "      <td>NaN</td>\n",
       "      <td>NaN</td>\n",
       "      <td>NaN</td>\n",
       "      <td>NaN</td>\n",
       "      <td>NaN</td>\n",
       "      <td>NaN</td>\n",
       "      <td>NaN</td>\n",
       "      <td>NaN</td>\n",
       "      <td>2022-01-10 00:00:00</td>\n",
       "      <td>NaN</td>\n",
       "      <td>NaN</td>\n",
       "      <td>NaN</td>\n",
       "      <td>2023-01-01 00:00:00</td>\n",
       "      <td>NaN</td>\n",
       "      <td>NaN</td>\n",
       "      <td>NaN</td>\n",
       "    </tr>\n",
       "    <tr>\n",
       "      <th>last</th>\n",
       "      <td>NaN</td>\n",
       "      <td>NaN</td>\n",
       "      <td>NaN</td>\n",
       "      <td>NaN</td>\n",
       "      <td>NaN</td>\n",
       "      <td>NaN</td>\n",
       "      <td>NaN</td>\n",
       "      <td>NaN</td>\n",
       "      <td>2022-12-31 00:00:00</td>\n",
       "      <td>NaN</td>\n",
       "      <td>NaN</td>\n",
       "      <td>NaN</td>\n",
       "      <td>2023-12-31 00:00:00</td>\n",
       "      <td>NaN</td>\n",
       "      <td>NaN</td>\n",
       "      <td>NaN</td>\n",
       "    </tr>\n",
       "    <tr>\n",
       "      <th>mean</th>\n",
       "      <td>500.500000</td>\n",
       "      <td>43.267000</td>\n",
       "      <td>NaN</td>\n",
       "      <td>NaN</td>\n",
       "      <td>NaN</td>\n",
       "      <td>1267.074950</td>\n",
       "      <td>248.806511</td>\n",
       "      <td>5.054000</td>\n",
       "      <td>NaN</td>\n",
       "      <td>1.500000</td>\n",
       "      <td>0.501497</td>\n",
       "      <td>0.717066</td>\n",
       "      <td>NaN</td>\n",
       "      <td>25.912000</td>\n",
       "      <td>NaN</td>\n",
       "      <td>0.204000</td>\n",
       "    </tr>\n",
       "    <tr>\n",
       "      <th>std</th>\n",
       "      <td>288.819436</td>\n",
       "      <td>15.242311</td>\n",
       "      <td>NaN</td>\n",
       "      <td>NaN</td>\n",
       "      <td>NaN</td>\n",
       "      <td>738.590013</td>\n",
       "      <td>79.372766</td>\n",
       "      <td>2.603433</td>\n",
       "      <td>NaN</td>\n",
       "      <td>0.500375</td>\n",
       "      <td>0.603586</td>\n",
       "      <td>0.638032</td>\n",
       "      <td>NaN</td>\n",
       "      <td>14.055953</td>\n",
       "      <td>NaN</td>\n",
       "      <td>0.403171</td>\n",
       "    </tr>\n",
       "    <tr>\n",
       "      <th>min</th>\n",
       "      <td>1.000000</td>\n",
       "      <td>18.000000</td>\n",
       "      <td>NaN</td>\n",
       "      <td>NaN</td>\n",
       "      <td>NaN</td>\n",
       "      <td>9.800000</td>\n",
       "      <td>9.800000</td>\n",
       "      <td>1.000000</td>\n",
       "      <td>NaN</td>\n",
       "      <td>1.000000</td>\n",
       "      <td>0.000000</td>\n",
       "      <td>0.000000</td>\n",
       "      <td>NaN</td>\n",
       "      <td>1.000000</td>\n",
       "      <td>NaN</td>\n",
       "      <td>0.000000</td>\n",
       "    </tr>\n",
       "    <tr>\n",
       "      <th>25%</th>\n",
       "      <td>250.750000</td>\n",
       "      <td>30.000000</td>\n",
       "      <td>NaN</td>\n",
       "      <td>NaN</td>\n",
       "      <td>NaN</td>\n",
       "      <td>626.685000</td>\n",
       "      <td>203.734167</td>\n",
       "      <td>3.000000</td>\n",
       "      <td>NaN</td>\n",
       "      <td>1.000000</td>\n",
       "      <td>0.000000</td>\n",
       "      <td>0.000000</td>\n",
       "      <td>NaN</td>\n",
       "      <td>13.750000</td>\n",
       "      <td>NaN</td>\n",
       "      <td>0.000000</td>\n",
       "    </tr>\n",
       "    <tr>\n",
       "      <th>50%</th>\n",
       "      <td>500.500000</td>\n",
       "      <td>43.000000</td>\n",
       "      <td>NaN</td>\n",
       "      <td>NaN</td>\n",
       "      <td>NaN</td>\n",
       "      <td>1232.880000</td>\n",
       "      <td>250.121458</td>\n",
       "      <td>5.000000</td>\n",
       "      <td>NaN</td>\n",
       "      <td>1.500000</td>\n",
       "      <td>0.000000</td>\n",
       "      <td>1.000000</td>\n",
       "      <td>NaN</td>\n",
       "      <td>27.000000</td>\n",
       "      <td>NaN</td>\n",
       "      <td>0.000000</td>\n",
       "    </tr>\n",
       "    <tr>\n",
       "      <th>75%</th>\n",
       "      <td>750.250000</td>\n",
       "      <td>56.000000</td>\n",
       "      <td>NaN</td>\n",
       "      <td>NaN</td>\n",
       "      <td>NaN</td>\n",
       "      <td>1791.902500</td>\n",
       "      <td>295.023854</td>\n",
       "      <td>7.000000</td>\n",
       "      <td>NaN</td>\n",
       "      <td>2.000000</td>\n",
       "      <td>1.000000</td>\n",
       "      <td>1.000000</td>\n",
       "      <td>NaN</td>\n",
       "      <td>38.000000</td>\n",
       "      <td>NaN</td>\n",
       "      <td>0.000000</td>\n",
       "    </tr>\n",
       "    <tr>\n",
       "      <th>max</th>\n",
       "      <td>1000.000000</td>\n",
       "      <td>69.000000</td>\n",
       "      <td>NaN</td>\n",
       "      <td>NaN</td>\n",
       "      <td>NaN</td>\n",
       "      <td>3386.040000</td>\n",
       "      <td>496.990000</td>\n",
       "      <td>9.000000</td>\n",
       "      <td>NaN</td>\n",
       "      <td>2.000000</td>\n",
       "      <td>2.000000</td>\n",
       "      <td>2.000000</td>\n",
       "      <td>NaN</td>\n",
       "      <td>49.000000</td>\n",
       "      <td>NaN</td>\n",
       "      <td>1.000000</td>\n",
       "    </tr>\n",
       "  </tbody>\n",
       "</table>\n",
       "</div>"
      ],
      "text/plain": [
       "         CustomerID          Age Gender MaritalStatus IncomeLevel  \\\n",
       "count   1000.000000  1000.000000   1000          1000        1000   \n",
       "unique          NaN          NaN      2             4           3   \n",
       "top             NaN          NaN      F       Widowed        High   \n",
       "freq            NaN          NaN    513           276         349   \n",
       "first           NaN          NaN    NaN           NaN         NaN   \n",
       "last            NaN          NaN    NaN           NaN         NaN   \n",
       "mean     500.500000    43.267000    NaN           NaN         NaN   \n",
       "std      288.819436    15.242311    NaN           NaN         NaN   \n",
       "min        1.000000    18.000000    NaN           NaN         NaN   \n",
       "25%      250.750000    30.000000    NaN           NaN         NaN   \n",
       "50%      500.500000    43.000000    NaN           NaN         NaN   \n",
       "75%      750.250000    56.000000    NaN           NaN         NaN   \n",
       "max     1000.000000    69.000000    NaN           NaN         NaN   \n",
       "\n",
       "         TotalSpent     AvgSpent  TransactionCount  LastTransactionDate  \\\n",
       "count   1000.000000  1000.000000       1000.000000                 1000   \n",
       "unique          NaN          NaN               NaN                  254   \n",
       "top             NaN          NaN               NaN  2022-12-15 00:00:00   \n",
       "freq            NaN          NaN               NaN                   18   \n",
       "first           NaN          NaN               NaN  2022-01-10 00:00:00   \n",
       "last            NaN          NaN               NaN  2022-12-31 00:00:00   \n",
       "mean    1267.074950   248.806511          5.054000                  NaN   \n",
       "std      738.590013    79.372766          2.603433                  NaN   \n",
       "min        9.800000     9.800000          1.000000                  NaN   \n",
       "25%      626.685000   203.734167          3.000000                  NaN   \n",
       "50%     1232.880000   250.121458          5.000000                  NaN   \n",
       "75%     1791.902500   295.023854          7.000000                  NaN   \n",
       "max     3386.040000   496.990000          9.000000                  NaN   \n",
       "\n",
       "        ServiceInteractions  InteractionType  UnresolvedIssues  \\\n",
       "count            668.000000       668.000000        668.000000   \n",
       "unique                  NaN              NaN               NaN   \n",
       "top                     NaN              NaN               NaN   \n",
       "freq                    NaN              NaN               NaN   \n",
       "first                   NaN              NaN               NaN   \n",
       "last                    NaN              NaN               NaN   \n",
       "mean               1.500000         0.501497          0.717066   \n",
       "std                0.500375         0.603586          0.638032   \n",
       "min                1.000000         0.000000          0.000000   \n",
       "25%                1.000000         0.000000          0.000000   \n",
       "50%                1.500000         0.000000          1.000000   \n",
       "75%                2.000000         1.000000          1.000000   \n",
       "max                2.000000         2.000000          2.000000   \n",
       "\n",
       "              LastLoginDate  LoginFrequency    ServiceUsage  ChurnStatus  \n",
       "count                  1000     1000.000000            1000  1000.000000  \n",
       "unique                  340             NaN               3          NaN  \n",
       "top     2023-09-20 00:00:00             NaN  Online Banking          NaN  \n",
       "freq                      8             NaN             349          NaN  \n",
       "first   2023-01-01 00:00:00             NaN             NaN          NaN  \n",
       "last    2023-12-31 00:00:00             NaN             NaN          NaN  \n",
       "mean                    NaN       25.912000             NaN     0.204000  \n",
       "std                     NaN       14.055953             NaN     0.403171  \n",
       "min                     NaN        1.000000             NaN     0.000000  \n",
       "25%                     NaN       13.750000             NaN     0.000000  \n",
       "50%                     NaN       27.000000             NaN     0.000000  \n",
       "75%                     NaN       38.000000             NaN     0.000000  \n",
       "max                     NaN       49.000000             NaN     1.000000  "
      ]
     },
     "execution_count": 116,
     "metadata": {},
     "output_type": "execute_result"
    }
   ],
   "source": [
    "# Summary of merged data\n",
    "merged_df.describe(include='all')"
   ]
  },
  {
   "cell_type": "code",
   "execution_count": 117,
   "id": "f1c8a8d7",
   "metadata": {},
   "outputs": [
    {
     "name": "stdout",
     "output_type": "stream",
     "text": [
      "<class 'pandas.core.frame.DataFrame'>\n",
      "Int64Index: 1000 entries, 0 to 999\n",
      "Data columns (total 16 columns):\n",
      " #   Column               Non-Null Count  Dtype         \n",
      "---  ------               --------------  -----         \n",
      " 0   CustomerID           1000 non-null   int64         \n",
      " 1   Age                  1000 non-null   int64         \n",
      " 2   Gender               1000 non-null   object        \n",
      " 3   MaritalStatus        1000 non-null   object        \n",
      " 4   IncomeLevel          1000 non-null   object        \n",
      " 5   TotalSpent           1000 non-null   float64       \n",
      " 6   AvgSpent             1000 non-null   float64       \n",
      " 7   TransactionCount     1000 non-null   int64         \n",
      " 8   LastTransactionDate  1000 non-null   datetime64[ns]\n",
      " 9   ServiceInteractions  668 non-null    float64       \n",
      " 10  InteractionType      668 non-null    float64       \n",
      " 11  UnresolvedIssues     668 non-null    float64       \n",
      " 12  LastLoginDate        1000 non-null   datetime64[ns]\n",
      " 13  LoginFrequency       1000 non-null   int64         \n",
      " 14  ServiceUsage         1000 non-null   object        \n",
      " 15  ChurnStatus          1000 non-null   int64         \n",
      "dtypes: datetime64[ns](2), float64(5), int64(5), object(4)\n",
      "memory usage: 132.8+ KB\n"
     ]
    }
   ],
   "source": [
    "merged_df.info()"
   ]
  },
  {
   "cell_type": "code",
   "execution_count": 118,
   "id": "bd7e5809",
   "metadata": {},
   "outputs": [
    {
     "name": "stdout",
     "output_type": "stream",
     "text": [
      "CustomerID               0\n",
      "Age                      0\n",
      "Gender                   0\n",
      "MaritalStatus            0\n",
      "IncomeLevel              0\n",
      "TotalSpent               0\n",
      "AvgSpent                 0\n",
      "TransactionCount         0\n",
      "LastTransactionDate      0\n",
      "ServiceInteractions    332\n",
      "InteractionType        332\n",
      "UnresolvedIssues       332\n",
      "LastLoginDate            0\n",
      "LoginFrequency           0\n",
      "ServiceUsage             0\n",
      "ChurnStatus              0\n",
      "dtype: int64\n"
     ]
    }
   ],
   "source": [
    "# Checking for columns with missing values\n",
    "missing_values = merged_df.isnull().sum()\n",
    "print(missing_values)"
   ]
  },
  {
   "cell_type": "markdown",
   "id": "c6db50fa",
   "metadata": {},
   "source": [
    "##### Handle missing values"
   ]
  },
  {
   "cell_type": "code",
   "execution_count": 119,
   "id": "5551cd71",
   "metadata": {},
   "outputs": [],
   "source": [
    "# Drop columns with more than 50% missing values\n",
    "missing_values_percentage = merged_df.isnull().mean() * 100\n",
    "columns_to_drop = missing_values_percentage[missing_values_percentage > 50].index\n",
    "merged_df.drop(columns=columns_to_drop, inplace=True)\n",
    "\n",
    "# Fill missing values for categorical variables with mode. There were no missing values for categorical variables.\n",
    "categorical_cols = merged_df.select_dtypes(include=['object', 'category']).columns\n",
    "for col in categorical_cols:\n",
    "    merged_df[col].fillna(merged_df[col].mode()[0], inplace=True)\n",
    "\n",
    "# Fill missing values for numerical variables with median. Using the median is robust to outliers and prevents significant skewing of the data distribution.\n",
    "numerical_cols = merged_df.select_dtypes(include=['int64', 'float64']).columns\n",
    "for col in numerical_cols:\n",
    "    merged_df[col].fillna(merged_df[col].median(), inplace=True)"
   ]
  },
  {
   "cell_type": "code",
   "execution_count": 120,
   "id": "b6a19600",
   "metadata": {},
   "outputs": [
    {
     "data": {
      "text/plain": [
       "CustomerID             0\n",
       "Age                    0\n",
       "Gender                 0\n",
       "MaritalStatus          0\n",
       "IncomeLevel            0\n",
       "TotalSpent             0\n",
       "AvgSpent               0\n",
       "TransactionCount       0\n",
       "LastTransactionDate    0\n",
       "ServiceInteractions    0\n",
       "InteractionType        0\n",
       "UnresolvedIssues       0\n",
       "LastLoginDate          0\n",
       "LoginFrequency         0\n",
       "ServiceUsage           0\n",
       "ChurnStatus            0\n",
       "dtype: int64"
      ]
     },
     "execution_count": 120,
     "metadata": {},
     "output_type": "execute_result"
    }
   ],
   "source": [
    "merged_df.isnull().sum()"
   ]
  },
  {
   "cell_type": "markdown",
   "id": "42181b65",
   "metadata": {},
   "source": [
    "##### Drop the columns not needed for analysis"
   ]
  },
  {
   "cell_type": "code",
   "execution_count": 121,
   "id": "b4d18347",
   "metadata": {},
   "outputs": [],
   "source": [
    "merged_df.drop(columns=[\"CustomerID\", \"LastTransactionDate\", \"LastLoginDate\"], inplace=True)"
   ]
  },
  {
   "cell_type": "code",
   "execution_count": 122,
   "id": "6306fab2",
   "metadata": {},
   "outputs": [
    {
     "name": "stdout",
     "output_type": "stream",
     "text": [
      "21    30\n",
      "23    26\n",
      "54    26\n",
      "18    24\n",
      "53    24\n",
      "68    24\n",
      "69    23\n",
      "25    22\n",
      "48    22\n",
      "37    22\n",
      "41    22\n",
      "38    22\n",
      "30    22\n",
      "45    21\n",
      "64    21\n",
      "63    21\n",
      "27    21\n",
      "36    20\n",
      "61    20\n",
      "47    20\n",
      "42    20\n",
      "59    20\n",
      "24    20\n",
      "34    20\n",
      "52    19\n",
      "51    19\n",
      "56    19\n",
      "28    19\n",
      "66    19\n",
      "44    19\n",
      "46    19\n",
      "58    18\n",
      "33    18\n",
      "67    18\n",
      "26    18\n",
      "50    18\n",
      "43    18\n",
      "57    17\n",
      "19    17\n",
      "55    17\n",
      "35    17\n",
      "31    16\n",
      "20    16\n",
      "22    16\n",
      "29    15\n",
      "39    15\n",
      "62    14\n",
      "60    14\n",
      "65    14\n",
      "40    13\n",
      "32    13\n",
      "49    12\n",
      "Name: Age, dtype: int64\n",
      "F    513\n",
      "M    487\n",
      "Name: Gender, dtype: int64\n",
      "Widowed     276\n",
      "Married     261\n",
      "Divorced    248\n",
      "Single      215\n",
      "Name: MaritalStatus, dtype: int64\n",
      "High      349\n",
      "Medium    326\n",
      "Low       325\n",
      "Name: IncomeLevel, dtype: int64\n",
      "1108.56    2\n",
      "1099.45    2\n",
      "13.04      2\n",
      "416.50     1\n",
      "77.31      1\n",
      "          ..\n",
      "1022.86    1\n",
      "2295.76    1\n",
      "924.63     1\n",
      "1466.60    1\n",
      "1670.79    1\n",
      "Name: TotalSpent, Length: 997, dtype: int64\n",
      "224.067500    2\n",
      "13.040000     2\n",
      "416.500000    1\n",
      "77.310000     1\n",
      "334.532500    1\n",
      "             ..\n",
      "191.180000    1\n",
      "170.476667    1\n",
      "327.965714    1\n",
      "308.210000    1\n",
      "278.465000    1\n",
      "Name: AvgSpent, Length: 998, dtype: int64\n",
      "7    121\n",
      "5    120\n",
      "1    117\n",
      "6    115\n",
      "9    114\n",
      "8    111\n",
      "3    110\n",
      "2    106\n",
      "4     86\n",
      "Name: TransactionCount, dtype: int64\n",
      "1.0    334\n",
      "2.0    334\n",
      "1.5    332\n",
      "Name: ServiceInteractions, dtype: int64\n",
      "0.0    703\n",
      "1.0    259\n",
      "2.0     38\n",
      "Name: InteractionType, dtype: int64\n",
      "1.0    675\n",
      "0.0    257\n",
      "2.0     68\n",
      "Name: UnresolvedIssues, dtype: int64\n",
      "38    33\n",
      "30    28\n",
      "34    26\n",
      "26    26\n",
      "41    26\n",
      "39    25\n",
      "35    23\n",
      "29    23\n",
      "43    23\n",
      "25    23\n",
      "28    23\n",
      "44    23\n",
      "47    23\n",
      "32    22\n",
      "27    22\n",
      "5     22\n",
      "33    22\n",
      "6     22\n",
      "24    21\n",
      "4     21\n",
      "8     21\n",
      "48    20\n",
      "14    20\n",
      "20    20\n",
      "42    20\n",
      "45    20\n",
      "12    20\n",
      "11    20\n",
      "16    20\n",
      "1     20\n",
      "9     19\n",
      "40    19\n",
      "13    19\n",
      "22    19\n",
      "49    19\n",
      "18    19\n",
      "37    19\n",
      "46    18\n",
      "10    17\n",
      "36    17\n",
      "2     17\n",
      "3     17\n",
      "21    16\n",
      "23    16\n",
      "19    15\n",
      "7     15\n",
      "31    15\n",
      "17    13\n",
      "15    13\n",
      "Name: LoginFrequency, dtype: int64\n",
      "Online Banking    349\n",
      "Mobile App        342\n",
      "Website           309\n",
      "Name: ServiceUsage, dtype: int64\n",
      "0    796\n",
      "1    204\n",
      "Name: ChurnStatus, dtype: int64\n"
     ]
    }
   ],
   "source": [
    "# Counting frequency of entries for all variables using a for loop\n",
    "for cols in merged_df.columns:\n",
    "    print(merged_df[cols].value_counts())"
   ]
  },
  {
   "cell_type": "code",
   "execution_count": 123,
   "id": "fd3604f8",
   "metadata": {},
   "outputs": [
    {
     "name": "stdout",
     "output_type": "stream",
     "text": [
      "Unique values in Gender:\n",
      "['M' 'F']\n",
      "--------------------------------------------------\n",
      "Unique values in MaritalStatus:\n",
      "['Single' 'Married' 'Widowed' 'Divorced']\n",
      "--------------------------------------------------\n",
      "Unique values in IncomeLevel:\n",
      "['Low' 'Medium' 'High']\n",
      "--------------------------------------------------\n",
      "Unique values in ServiceUsage:\n",
      "['Mobile App' 'Website' 'Online Banking']\n",
      "--------------------------------------------------\n"
     ]
    }
   ],
   "source": [
    "# printing the unique values in all the categorical columns\n",
    "numerical_cols = merged_df.select_dtypes(include=[np.number]).columns.tolist()\n",
    "\n",
    "for col in merged_df.columns:\n",
    "    if col not in numerical_cols:\n",
    "        print(f\"Unique values in {col}:\")\n",
    "        print(merged_df[col].unique())\n",
    "        print(\"-\"*50)"
   ]
  },
  {
   "cell_type": "markdown",
   "id": "0bf70c59",
   "metadata": {},
   "source": [
    "##### Summary Statistics of the Cleaned Data"
   ]
  },
  {
   "cell_type": "code",
   "execution_count": 124,
   "id": "a4d8b22e",
   "metadata": {},
   "outputs": [
    {
     "name": "stdout",
     "output_type": "stream",
     "text": [
      "               Age   TotalSpent     AvgSpent  TransactionCount  \\\n",
      "count  1000.000000  1000.000000  1000.000000       1000.000000   \n",
      "mean     43.267000  1267.074950   248.806511          5.054000   \n",
      "std      15.242311   738.590013    79.372766          2.603433   \n",
      "min      18.000000     9.800000     9.800000          1.000000   \n",
      "25%      30.000000   626.685000   203.734167          3.000000   \n",
      "50%      43.000000  1232.880000   250.121458          5.000000   \n",
      "75%      56.000000  1791.902500   295.023854          7.000000   \n",
      "max      69.000000  3386.040000   496.990000          9.000000   \n",
      "\n",
      "       ServiceInteractions  InteractionType  UnresolvedIssues  LoginFrequency  \\\n",
      "count          1000.000000      1000.000000       1000.000000     1000.000000   \n",
      "mean              1.500000         0.335000          0.811000       25.912000   \n",
      "std               0.408861         0.546877          0.538116       14.055953   \n",
      "min               1.000000         0.000000          0.000000        1.000000   \n",
      "25%               1.000000         0.000000          0.000000       13.750000   \n",
      "50%               1.500000         0.000000          1.000000       27.000000   \n",
      "75%               2.000000         1.000000          1.000000       38.000000   \n",
      "max               2.000000         2.000000          2.000000       49.000000   \n",
      "\n",
      "       ChurnStatus  \n",
      "count  1000.000000  \n",
      "mean      0.204000  \n",
      "std       0.403171  \n",
      "min       0.000000  \n",
      "25%       0.000000  \n",
      "50%       0.000000  \n",
      "75%       0.000000  \n",
      "max       1.000000  \n"
     ]
    }
   ],
   "source": [
    "# Summary statistics for numerical columns\n",
    "numerical_summary = merged_df[numerical_cols].describe()\n",
    "print(numerical_summary)"
   ]
  },
  {
   "cell_type": "code",
   "execution_count": null,
   "id": "65bcccfd",
   "metadata": {},
   "outputs": [],
   "source": []
  },
  {
   "cell_type": "markdown",
   "id": "e240c07b",
   "metadata": {},
   "source": [
    "# 3. Exploratory Data Analysis (EDA)"
   ]
  },
  {
   "cell_type": "markdown",
   "id": "033c0fbd",
   "metadata": {},
   "source": [
    "##### Visualize distributions of key categorical variables and churn"
   ]
  },
  {
   "cell_type": "code",
   "execution_count": 125,
   "id": "b5038ef9",
   "metadata": {},
   "outputs": [
    {
     "data": {
      "image/png": "[encoded data removed]",
      "text/plain": [
       "<Figure size 1400x1000 with 4 Axes>"
      ]
     },
     "metadata": {},
     "output_type": "display_data"
    },
    {
     "data": {
      "image/png": "[encoded data removed]",
      "text/plain": [
       "<Figure size 600x400 with 1 Axes>"
      ]
     },
     "metadata": {},
     "output_type": "display_data"
    }
   ],
   "source": [
    "fig, axes = plt.subplots(2, 2, figsize=(14, 10))\n",
    "sns.countplot(x='Gender', data=merged_df, ax=axes[0,0])\n",
    "axes[0,0].set_title('Gender Distribution')\n",
    "sns.countplot(x='MaritalStatus', data=merged_df, ax=axes[0,1])\n",
    "axes[0,1].set_title('Marital Status Distribution')\n",
    "sns.countplot(x='IncomeLevel', data=merged_df, ax=axes[1,0])\n",
    "axes[1,0].set_title('Income Level Distribution')\n",
    "sns.countplot(x='ServiceUsage', data=merged_df, ax=axes[1,1])\n",
    "axes[1,1].set_title('Service Usage Distribution')\n",
    "plt.tight_layout()\n",
    "plt.show()\n",
    "\n",
    "# Churn distribution\n",
    "plt.figure(figsize=(6,4))\n",
    "sns.countplot(x='ChurnStatus', data=merged_df)\n",
    "plt.title('Churn Distribution')\n",
    "plt.show()"
   ]
  },
  {
   "cell_type": "markdown",
   "id": "555a7a3d",
   "metadata": {},
   "source": [
    "### The charts above show:\n",
    "\n",
    "#### Gender is nearly balanced.\n",
    "#### Marital status is fairly distributed, with 'Widowed' being the most common.\n",
    "#### Income levels are well spread across 'High', 'Medium', and 'Low'.\n",
    "#### Service usage is split among 'Online Banking', 'Mobile App', and 'Website'."
   ]
  },
  {
   "cell_type": "code",
   "execution_count": 126,
   "id": "db30a9c0",
   "metadata": {},
   "outputs": [
    {
     "name": "stdout",
     "output_type": "stream",
     "text": [
      "Churn distribution:\n",
      "0    796\n",
      "1    204\n",
      "Name: ChurnStatus, dtype: int64\n",
      "Churn rate: 20.40%\n"
     ]
    }
   ],
   "source": [
    "print(\"Churn distribution:\")\n",
    "print(merged_df['ChurnStatus'].value_counts())\n",
    "print(f\"Churn rate: {merged_df['ChurnStatus'].mean():.2%}\")"
   ]
  },
  {
   "cell_type": "markdown",
   "id": "516da3a7",
   "metadata": {},
   "source": [
    "#### The churn distribution plot confirms that about 20% of customers have churned."
   ]
  },
  {
   "cell_type": "markdown",
   "id": "ade9c552",
   "metadata": {},
   "source": [
    "## Next, let's explore the distributions of key numerical variables and their relationships with churn."
   ]
  },
  {
   "cell_type": "code",
   "execution_count": 127,
   "id": "26669ec2",
   "metadata": {},
   "outputs": [
    {
     "data": {
      "image/png": "[encoded data removed]",
      "text/plain": [
       "<Figure size 1800x1000 with 6 Axes>"
      ]
     },
     "metadata": {},
     "output_type": "display_data"
    }
   ],
   "source": [
    "# Visualize distributions of key numerical variables\n",
    "num_cols = ['Age', 'TotalSpent', 'AvgSpent', 'TransactionCount', 'LoginFrequency']\n",
    "fig, axes = plt.subplots(2, 3, figsize=(18, 10))\n",
    "for i, col in enumerate(num_cols):\n",
    "    sns.histplot(merged_df[col], kde=True, ax=axes[i//3, i%3])\n",
    "    axes[i//3, i%3].set_title(col + ' Distribution')\n",
    "axes[1,2].axis('off')\n",
    "plt.tight_layout()\n",
    "plt.show()"
   ]
  },
  {
   "cell_type": "markdown",
   "id": "a74fb813",
   "metadata": {},
   "source": [
    "### Age is fairly evenly distributed from 18 to 69, with a slight concentration in the middle age ranges.\n",
    "### TotalSpent and AvgSpent are right-skewed, meaning most customers spend less, but a few spend much more.\n",
    "### TransactionCount and LoginFrequency also show right-skewed distributions, with most customers having lower values."
   ]
  },
  {
   "cell_type": "code",
   "execution_count": 128,
   "id": "a0bb0232",
   "metadata": {},
   "outputs": [
    {
     "data": {
      "image/png": "[encoded data removed]",
      "text/plain": [
       "<Figure size 1800x1000 with 6 Axes>"
      ]
     },
     "metadata": {},
     "output_type": "display_data"
    }
   ],
   "source": [
    "# Boxplots of numerical variables by churn\n",
    "fig, axes = plt.subplots(2, 3, figsize=(18, 10))\n",
    "for i, col in enumerate(num_cols):\n",
    "    sns.boxplot(x='ChurnStatus', y=col, data=merged_df, ax=axes[i//3, i%3])\n",
    "    axes[i//3, i%3].set_title(col + ' by Churn')\n",
    "axes[1,2].axis('off')\n",
    "plt.tight_layout()\n",
    "plt.show()"
   ]
  },
  {
   "cell_type": "markdown",
   "id": "517363a5",
   "metadata": {},
   "source": [
    "### Customers who churned tend to have lower TotalSpent, AvgSpent, TransactionCount, and LoginFrequency compared to those who stayed.\n",
    "### Age does not show a strong difference between churned and non-churned customers.\n",
    "\n",
    "### This suggests that higher engagement and spending are associated with lower churn."
   ]
  },
  {
   "cell_type": "markdown",
   "id": "1f988cb4",
   "metadata": {},
   "source": []
  },
  {
   "cell_type": "markdown",
   "id": "42c44dc2",
   "metadata": {},
   "source": [
    "## Corelation matrix"
   ]
  },
  {
   "cell_type": "code",
   "execution_count": 129,
   "id": "3f23dcda",
   "metadata": {},
   "outputs": [
    {
     "data": {
      "image/png": "[encoded data removed]",
      "text/plain": [
       "<Figure size 1000x800 with 2 Axes>"
      ]
     },
     "metadata": {},
     "output_type": "display_data"
    }
   ],
   "source": [
    "# Correlation heatmap for numerical variables\n",
    "corr = merged_df[['Age', 'TotalSpent', 'AvgSpent', 'TransactionCount', 'ServiceInteractions', 'UnresolvedIssues', 'LoginFrequency', 'ChurnStatus']].corr()\n",
    "plt.figure(figsize=(10,8))\n",
    "sns.heatmap(corr, annot=True, cmap='coolwarm', fmt='.2f')\n",
    "plt.title('Correlation Heatmap')\n",
    "plt.show()"
   ]
  },
  {
   "cell_type": "markdown",
   "id": "57caeb99",
   "metadata": {},
   "source": [
    "# 4. Feature Engineering"
   ]
  },
  {
   "cell_type": "markdown",
   "id": "32c40ab9",
   "metadata": {},
   "source": [
    "### Label Encoding"
   ]
  },
  {
   "cell_type": "code",
   "execution_count": 130,
   "id": "326c72c4",
   "metadata": {},
   "outputs": [],
   "source": [
    "from sklearn.preprocessing import LabelEncoder\n",
    "import pickle\n",
    "\n",
    "# initialize a dictionary to save the encoders\n",
    "encoders = {}\n",
    "\n",
    "# apply label encoding and store the encoders\n",
    "for column in categorical_cols:\n",
    "    label_encoder = LabelEncoder()\n",
    "    merged_df[column] = label_encoder.fit_transform(merged_df[column])\n",
    "    encoders[column] = label_encoder\n",
    "\n",
    "# Save the encoders to a pickle file in the current working directory\n",
    "with open(\"/Users/yawdapaa/encoders.pkl\", \"wb\") as f:\n",
    "    pickle.dump(encoders, f)"
   ]
  },
  {
   "cell_type": "code",
   "execution_count": 131,
   "id": "cd3283e9",
   "metadata": {},
   "outputs": [
    {
     "data": {
      "text/plain": [
       "{'Gender': LabelEncoder(),\n",
       " 'MaritalStatus': LabelEncoder(),\n",
       " 'IncomeLevel': LabelEncoder(),\n",
       " 'ServiceUsage': LabelEncoder()}"
      ]
     },
     "execution_count": 131,
     "metadata": {},
     "output_type": "execute_result"
    }
   ],
   "source": [
    "encoders"
   ]
  },
  {
   "cell_type": "markdown",
   "id": "7079e830",
   "metadata": {},
   "source": [
    "### Standardise or Normalise Numerical Features"
   ]
  },
  {
   "cell_type": "code",
   "execution_count": 132,
   "id": "081fc8f4",
   "metadata": {},
   "outputs": [
    {
     "data": {
      "text/plain": [
       "['Age',\n",
       " 'TotalSpent',\n",
       " 'AvgSpent',\n",
       " 'TransactionCount',\n",
       " 'ServiceInteractions',\n",
       " 'InteractionType',\n",
       " 'UnresolvedIssues',\n",
       " 'LoginFrequency']"
      ]
     },
     "execution_count": 132,
     "metadata": {},
     "output_type": "execute_result"
    }
   ],
   "source": [
    "# Drop the target variable 'ChurnStatus' from the numerical features since it had a dtype of int64\n",
    "numerical_cols = [col for col in numerical_cols if col != \"ChurnStatus\"]\n",
    "numerical_cols"
   ]
  },
  {
   "cell_type": "code",
   "execution_count": 133,
   "id": "cb7109ad",
   "metadata": {},
   "outputs": [],
   "source": [
    "from sklearn.preprocessing import StandardScaler\n",
    "\n",
    "# Standardise numerical features\n",
    "scaler = StandardScaler()\n",
    "merged_df[numerical_cols] = scaler.fit_transform(merged_df[numerical_cols])"
   ]
  },
  {
   "cell_type": "code",
   "execution_count": null,
   "id": "26befeff",
   "metadata": {},
   "outputs": [],
   "source": []
  },
  {
   "cell_type": "markdown",
   "id": "1f6adbc0",
   "metadata": {},
   "source": [
    "# 5. Data Modeling"
   ]
  },
  {
   "cell_type": "code",
   "execution_count": 134,
   "id": "02beae6e",
   "metadata": {},
   "outputs": [],
   "source": [
    "# Split the data into features (X) and target (y)\n",
    "x = merged_df.drop(columns=['ChurnStatus'])  # Features\n",
    "y = merged_df['ChurnStatus']  # Target"
   ]
  },
  {
   "cell_type": "code",
   "execution_count": 135,
   "id": "86574c5c",
   "metadata": {},
   "outputs": [],
   "source": [
    "from sklearn.model_selection import train_test_split\n",
    "\n",
    "# Train-test split\n",
    "x_train, x_test, y_train, y_test = train_test_split(x, y, test_size=0.2, random_state=42)"
   ]
  },
  {
   "cell_type": "code",
   "execution_count": 136,
   "id": "c25bcc9e",
   "metadata": {},
   "outputs": [
    {
     "name": "stdout",
     "output_type": "stream",
     "text": [
      "Class distribution in y_train before SMOTE:\n",
      "0    646\n",
      "1    154\n",
      "Name: ChurnStatus, dtype: int64\n"
     ]
    }
   ],
   "source": [
    "# Convert continuous target variable to discrete classes\n",
    "y_train = (y_train > 0).astype(int)\n",
    "y_test = (y_test > 0).astype(int)\n",
    "\n",
    "# Check class distribution\n",
    "print(\"Class distribution in y_train before SMOTE:\")\n",
    "print(y_train.value_counts())"
   ]
  },
  {
   "cell_type": "markdown",
   "id": "c6b354fc",
   "metadata": {},
   "source": [
    "#### There is clearly a data imbalance problem, with churned customers being only 20% of the dataset. We will use techniques like SMOTE to balance the dataset."
   ]
  },
  {
   "cell_type": "markdown",
   "id": "34e4f127",
   "metadata": {},
   "source": [
    "### Synthetic Minority Over-sampling Technique (SMOTE)"
   ]
  },
  {
   "cell_type": "code",
   "execution_count": 137,
   "id": "b6ed8c77",
   "metadata": {},
   "outputs": [
    {
     "name": "stdout",
     "output_type": "stream",
     "text": [
      "Class distribution in y_train after SMOTE:\n",
      "0    646\n",
      "1    646\n",
      "Name: ChurnStatus, dtype: int64\n"
     ]
    }
   ],
   "source": [
    "from imblearn.over_sampling import SMOTE\n",
    "\n",
    "# Apply SMOTE to balance the classes\n",
    "smote = SMOTE(random_state=42)\n",
    "x_train_resampled, y_train_resampled = smote.fit_resample(x_train, y_train)\n",
    "\n",
    "# Check class distribution after SMOTE\n",
    "print(\"Class distribution in y_train after SMOTE:\")\n",
    "print(y_train_resampled.value_counts())"
   ]
  },
  {
   "cell_type": "markdown",
   "id": "50dc8901",
   "metadata": {},
   "source": [
    "# 6. Model Traning"
   ]
  },
  {
   "cell_type": "markdown",
   "id": "2a1efefc",
   "metadata": {},
   "source": [
    "There are various machine learning models that can be used for churn prediction, such as Logistic Regression, Decision Trees, Random Forests, Gradient Boosting, and Neural Networks. The choice of model depends on the complexity of the data and the desired interpretability."
   ]
  },
  {
   "cell_type": "code",
   "execution_count": 138,
   "id": "64bfc9c8",
   "metadata": {},
   "outputs": [],
   "source": [
    "# Dictionary of models\n",
    "models = {\n",
    "    \"Logistic Regression\": LogisticRegression(max_iter=10000),\n",
    "    \"Decision Tree\": DecisionTreeClassifier(random_state=42),\n",
    "    \"Random Forest\": RandomForestClassifier(random_state=42),\n",
    "    \"Gradient Boosting\": GradientBoostingClassifier(random_state=42),\n",
    "    \"K-Nearest Neighbors\": KNeighborsClassifier(),\n",
    "    \"Naive Bayes\": GaussianNB(),\n",
    "    \"Support Vector Machine\": SVC(probability=True),\n",
    "    \"Neural Network\": MLPClassifier(max_iter=10000)\n",
    "}"
   ]
  },
  {
   "cell_type": "code",
   "execution_count": 139,
   "id": "75f7afbd",
   "metadata": {},
   "outputs": [
    {
     "name": "stderr",
     "output_type": "stream",
     "text": [
      "Evaluating Models:   0%|          | 0/8 [00:00<?, ?it/s]"
     ]
    },
    {
     "name": "stdout",
     "output_type": "stream",
     "text": [
      "\n",
      "Training Logistic Regression...\n"
     ]
    },
    {
     "name": "stderr",
     "output_type": "stream",
     "text": [
      "Evaluating Models:  12%|█▎        | 1/8 [00:02<00:16,  2.32s/it]"
     ]
    },
    {
     "name": "stdout",
     "output_type": "stream",
     "text": [
      "Logistic Regression CV Results:\n",
      "Accuracy: 0.59 ± 0.02\n",
      "F1-Score: 0.59\n",
      "ROC-AUC: 0.65\n",
      "--------------------------------------------------\n",
      "\n",
      "Training Decision Tree...\n",
      "Decision Tree CV Results:\n",
      "Accuracy: 0.74 ± 0.02\n",
      "F1-Score: 0.75\n",
      "ROC-AUC: 0.74\n",
      "--------------------------------------------------\n",
      "\n",
      "Training Random Forest...\n"
     ]
    },
    {
     "name": "stderr",
     "output_type": "stream",
     "text": [
      "Evaluating Models:  38%|███▊      | 3/8 [00:03<00:04,  1.07it/s]"
     ]
    },
    {
     "name": "stdout",
     "output_type": "stream",
     "text": [
      "Random Forest CV Results:\n",
      "Accuracy: 0.85 ± 0.02\n",
      "F1-Score: 0.86\n",
      "ROC-AUC: 0.92\n",
      "--------------------------------------------------\n",
      "\n",
      "Training Gradient Boosting...\n"
     ]
    },
    {
     "name": "stderr",
     "output_type": "stream",
     "text": [
      "Evaluating Models:  75%|███████▌  | 6/8 [00:04<00:00,  2.06it/s]"
     ]
    },
    {
     "name": "stdout",
     "output_type": "stream",
     "text": [
      "Gradient Boosting CV Results:\n",
      "Accuracy: 0.83 ± 0.03\n",
      "F1-Score: 0.82\n",
      "ROC-AUC: 0.89\n",
      "--------------------------------------------------\n",
      "\n",
      "Training K-Nearest Neighbors...\n",
      "K-Nearest Neighbors CV Results:\n",
      "Accuracy: 0.77 ± 0.03\n",
      "F1-Score: 0.81\n",
      "ROC-AUC: 0.88\n",
      "--------------------------------------------------\n",
      "\n",
      "Training Naive Bayes...\n",
      "Naive Bayes CV Results:\n",
      "Accuracy: 0.64 ± 0.03\n",
      "F1-Score: 0.65\n",
      "ROC-AUC: 0.69\n",
      "--------------------------------------------------\n",
      "\n",
      "Training Support Vector Machine...\n"
     ]
    },
    {
     "name": "stderr",
     "output_type": "stream",
     "text": [
      "Evaluating Models:  88%|████████▊ | 7/8 [00:04<00:00,  1.99it/s]"
     ]
    },
    {
     "name": "stdout",
     "output_type": "stream",
     "text": [
      "Support Vector Machine CV Results:\n",
      "Accuracy: 0.75 ± 0.01\n",
      "F1-Score: 0.76\n",
      "ROC-AUC: 0.82\n",
      "--------------------------------------------------\n",
      "\n",
      "Training Neural Network...\n"
     ]
    },
    {
     "name": "stderr",
     "output_type": "stream",
     "text": [
      "Evaluating Models: 100%|██████████| 8/8 [00:40<00:00,  5.02s/it]"
     ]
    },
    {
     "name": "stdout",
     "output_type": "stream",
     "text": [
      "Neural Network CV Results:\n",
      "Accuracy: 0.81 ± 0.02\n",
      "F1-Score: 0.82\n",
      "ROC-AUC: 0.88\n",
      "--------------------------------------------------\n"
     ]
    },
    {
     "name": "stderr",
     "output_type": "stream",
     "text": [
      "\n"
     ]
    }
   ],
   "source": [
    "from sklearn.model_selection import cross_validate, StratifiedKFold\n",
    "from tqdm import tqdm\n",
    "\n",
    "# Dictionary to store CV results\n",
    "cv_results = {}\n",
    "\n",
    "# Define scoring metrics\n",
    "scoring = {\n",
    "    'accuracy': 'accuracy',\n",
    "    'precision': 'precision',\n",
    "    'recall': 'recall',\n",
    "    'f1': 'f1',\n",
    "    'roc_auc': 'roc_auc'\n",
    "}\n",
    "\n",
    "# Stratified K-Fold for imbalanced data\n",
    "skf = StratifiedKFold(n_splits=5, shuffle=True, random_state=42)\n",
    "\n",
    "# Evaluate each model\n",
    "for model_name, model in tqdm(models.items(), desc=\"Evaluating Models\"):\n",
    "    print(f\"\\nTraining {model_name}...\")\n",
    "    \n",
    "    # Cross-validation with multiple metrics\n",
    "    scores = cross_validate(\n",
    "        model, \n",
    "        x_train_resampled, \n",
    "        y_train_resampled, \n",
    "        cv=skf, \n",
    "        scoring=scoring,\n",
    "        return_train_score=False\n",
    "    )\n",
    "    \n",
    "    # Store results\n",
    "    cv_results[model_name] = {\n",
    "        'mean_accuracy': np.mean(scores['test_accuracy']),\n",
    "        'std_accuracy': np.std(scores['test_accuracy']),\n",
    "        'mean_precision': np.mean(scores['test_precision']),\n",
    "        'mean_recall': np.mean(scores['test_recall']),\n",
    "        'mean_f1': np.mean(scores['test_f1']),\n",
    "        'mean_roc_auc': np.mean(scores['test_roc_auc'])\n",
    "    }\n",
    "    \n",
    "    # Print summary\n",
    "    print(f\"{model_name} CV Results:\")\n",
    "    print(f\"Accuracy: {cv_results[model_name]['mean_accuracy']:.2f} ± {cv_results[model_name]['std_accuracy']:.2f}\")\n",
    "    print(f\"F1-Score: {cv_results[model_name]['mean_f1']:.2f}\")\n",
    "    print(f\"ROC-AUC: {cv_results[model_name]['mean_roc_auc']:.2f}\")\n",
    "    print(\"-\" * 50)"
   ]
  },
  {
   "cell_type": "markdown",
   "id": "f0b97c8e",
   "metadata": {},
   "source": [
    "## Model Performance Conclusion\n",
    "The cross-validation results reveal clear differences in performance across the eight models tested. Here’s a breakdown of key findings and recommendations:\n",
    "\n",
    "### Top Performers (High Accuracy + Robustness)\n",
    "**Random Forest**\n",
    "\n",
    "Best overall: Highest accuracy (0.85 ± 0.02) and F1-score (0.86).\n",
    "\n",
    "Strong AUC (0.92): Excellent at distinguishing classes (ideal for imbalanced data).\n",
    "\n",
    "Low variance (±0.02): Consistent across folds.\n",
    "\n",
    "**Gradient Boosting & Neural Network**\n",
    "\n",
    "Close contenders: Accuracy ~0.82–0.83 and AUC ~0.88–0.89.\n",
    "\n",
    "Trade-off: Gradient Boosting trains faster, while Neural Networks may need hyperparameter tuning for stability.\n",
    "\n",
    "### Moderate Performers\n",
    "K-Nearest Neighbors (KNN) & SVM\n",
    "\n",
    "Decent accuracy (0.75–0.77), but lower than ensemble methods.\n",
    "\n",
    "KNN’s high F1 (0.81): Good for balanced precision/recall.\n",
    "\n",
    "SVM’s AUC (0.82): Reasonable but computationally expensive.\n",
    "\n",
    "Decision Tree\n",
    "\n",
    "Overfitting risk: Simpler than Random Forest (accuracy 0.74), but useful for interpretability.\n",
    "\n",
    "### Weak Performers\n",
    "Logistic Regression & Naive Bayes\n",
    "\n",
    "Low accuracy (0.59–0.64): Likely due to non-linear data patterns.\n",
    "\n",
    "Naive Bayes’ poor AUC (0.69): Assumes feature independence, which may not hold here."
   ]
  },
  {
   "cell_type": "markdown",
   "id": "6404b61a",
   "metadata": {},
   "source": []
  },
  {
   "cell_type": "markdown",
   "id": "6f3f84e6",
   "metadata": {},
   "source": [
    "# 7. Model Evalustion with Random Forest Classifier\n",
    "## Train the Random Forest model"
   ]
  },
  {
   "cell_type": "code",
   "execution_count": 140,
   "id": "42387c8a",
   "metadata": {},
   "outputs": [
    {
     "data": {
      "text/html": [
       "<style>#sk-container-id-2 {\n",
       "  /* Definition of color scheme common for light and dark mode */\n",
       "  --sklearn-color-text: black;\n",
       "  --sklearn-color-line: gray;\n",
       "  /* Definition of color scheme for unfitted estimators */\n",
       "  --sklearn-color-unfitted-level-0: #fff5e6;\n",
       "  --sklearn-color-unfitted-level-1: #f6e4d2;\n",
       "  --sklearn-color-unfitted-level-2: #ffe0b3;\n",
       "  --sklearn-color-unfitted-level-3: chocolate;\n",
       "  /* Definition of color scheme for fitted estimators */\n",
       "  --sklearn-color-fitted-level-0: #f0f8ff;\n",
       "  --sklearn-color-fitted-level-1: #d4ebff;\n",
       "  --sklearn-color-fitted-level-2: #b3dbfd;\n",
       "  --sklearn-color-fitted-level-3: cornflowerblue;\n",
       "\n",
       "  /* Specific color for light theme */\n",
       "  --sklearn-color-text-on-default-background: var(--sg-text-color, var(--theme-code-foreground, var(--jp-content-font-color1, black)));\n",
       "  --sklearn-color-background: var(--sg-background-color, var(--theme-background, var(--jp-layout-color0, white)));\n",
       "  --sklearn-color-border-box: var(--sg-text-color, var(--theme-code-foreground, var(--jp-content-font-color1, black)));\n",
       "  --sklearn-color-icon: #696969;\n",
       "\n",
       "  @media (prefers-color-scheme: dark) {\n",
       "    /* Redefinition of color scheme for dark theme */\n",
       "    --sklearn-color-text-on-default-background: var(--sg-text-color, var(--theme-code-foreground, var(--jp-content-font-color1, white)));\n",
       "    --sklearn-color-background: var(--sg-background-color, var(--theme-background, var(--jp-layout-color0, #111)));\n",
       "    --sklearn-color-border-box: var(--sg-text-color, var(--theme-code-foreground, var(--jp-content-font-color1, white)));\n",
       "    --sklearn-color-icon: #878787;\n",
       "  }\n",
       "}\n",
       "\n",
       "#sk-container-id-2 {\n",
       "  color: var(--sklearn-color-text);\n",
       "}\n",
       "\n",
       "#sk-container-id-2 pre {\n",
       "  padding: 0;\n",
       "}\n",
       "\n",
       "#sk-container-id-2 input.sk-hidden--visually {\n",
       "  border: 0;\n",
       "  clip: rect(1px 1px 1px 1px);\n",
       "  clip: rect(1px, 1px, 1px, 1px);\n",
       "  height: 1px;\n",
       "  margin: -1px;\n",
       "  overflow: hidden;\n",
       "  padding: 0;\n",
       "  position: absolute;\n",
       "  width: 1px;\n",
       "}\n",
       "\n",
       "#sk-container-id-2 div.sk-dashed-wrapped {\n",
       "  border: 1px dashed var(--sklearn-color-line);\n",
       "  margin: 0 0.4em 0.5em 0.4em;\n",
       "  box-sizing: border-box;\n",
       "  padding-bottom: 0.4em;\n",
       "  background-color: var(--sklearn-color-background);\n",
       "}\n",
       "\n",
       "#sk-container-id-2 div.sk-container {\n",
       "  /* jupyter's `normalize.less` sets `[hidden] { display: none; }`\n",
       "     but bootstrap.min.css set `[hidden] { display: none !important; }`\n",
       "     so we also need the `!important` here to be able to override the\n",
       "     default hidden behavior on the sphinx rendered scikit-learn.org.\n",
       "     See: https://github.com/scikit-learn/scikit-learn/issues/21755 */\n",
       "  display: inline-block !important;\n",
       "  position: relative;\n",
       "}\n",
       "\n",
       "#sk-container-id-2 div.sk-text-repr-fallback {\n",
       "  display: none;\n",
       "}\n",
       "\n",
       "div.sk-parallel-item,\n",
       "div.sk-serial,\n",
       "div.sk-item {\n",
       "  /* draw centered vertical line to link estimators */\n",
       "  background-image: linear-gradient(var(--sklearn-color-text-on-default-background), var(--sklearn-color-text-on-default-background));\n",
       "  background-size: 2px 100%;\n",
       "  background-repeat: no-repeat;\n",
       "  background-position: center center;\n",
       "}\n",
       "\n",
       "/* Parallel-specific style estimator block */\n",
       "\n",
       "#sk-container-id-2 div.sk-parallel-item::after {\n",
       "  content: \"\";\n",
       "  width: 100%;\n",
       "  border-bottom: 2px solid var(--sklearn-color-text-on-default-background);\n",
       "  flex-grow: 1;\n",
       "}\n",
       "\n",
       "#sk-container-id-2 div.sk-parallel {\n",
       "  display: flex;\n",
       "  align-items: stretch;\n",
       "  justify-content: center;\n",
       "  background-color: var(--sklearn-color-background);\n",
       "  position: relative;\n",
       "}\n",
       "\n",
       "#sk-container-id-2 div.sk-parallel-item {\n",
       "  display: flex;\n",
       "  flex-direction: column;\n",
       "}\n",
       "\n",
       "#sk-container-id-2 div.sk-parallel-item:first-child::after {\n",
       "  align-self: flex-end;\n",
       "  width: 50%;\n",
       "}\n",
       "\n",
       "#sk-container-id-2 div.sk-parallel-item:last-child::after {\n",
       "  align-self: flex-start;\n",
       "  width: 50%;\n",
       "}\n",
       "\n",
       "#sk-container-id-2 div.sk-parallel-item:only-child::after {\n",
       "  width: 0;\n",
       "}\n",
       "\n",
       "/* Serial-specific style estimator block */\n",
       "\n",
       "#sk-container-id-2 div.sk-serial {\n",
       "  display: flex;\n",
       "  flex-direction: column;\n",
       "  align-items: center;\n",
       "  background-color: var(--sklearn-color-background);\n",
       "  padding-right: 1em;\n",
       "  padding-left: 1em;\n",
       "}\n",
       "\n",
       "\n",
       "/* Toggleable style: style used for estimator/Pipeline/ColumnTransformer box that is\n",
       "clickable and can be expanded/collapsed.\n",
       "- Pipeline and ColumnTransformer use this feature and define the default style\n",
       "- Estimators will overwrite some part of the style using the `sk-estimator` class\n",
       "*/\n",
       "\n",
       "/* Pipeline and ColumnTransformer style (default) */\n",
       "\n",
       "#sk-container-id-2 div.sk-toggleable {\n",
       "  /* Default theme specific background. It is overwritten whether we have a\n",
       "  specific estimator or a Pipeline/ColumnTransformer */\n",
       "  background-color: var(--sklearn-color-background);\n",
       "}\n",
       "\n",
       "/* Toggleable label */\n",
       "#sk-container-id-2 label.sk-toggleable__label {\n",
       "  cursor: pointer;\n",
       "  display: block;\n",
       "  width: 100%;\n",
       "  margin-bottom: 0;\n",
       "  padding: 0.5em;\n",
       "  box-sizing: border-box;\n",
       "  text-align: center;\n",
       "}\n",
       "\n",
       "#sk-container-id-2 label.sk-toggleable__label-arrow:before {\n",
       "  /* Arrow on the left of the label */\n",
       "  content: \"▸\";\n",
       "  float: left;\n",
       "  margin-right: 0.25em;\n",
       "  color: var(--sklearn-color-icon);\n",
       "}\n",
       "\n",
       "#sk-container-id-2 label.sk-toggleable__label-arrow:hover:before {\n",
       "  color: var(--sklearn-color-text);\n",
       "}\n",
       "\n",
       "/* Toggleable content - dropdown */\n",
       "\n",
       "#sk-container-id-2 div.sk-toggleable__content {\n",
       "  max-height: 0;\n",
       "  max-width: 0;\n",
       "  overflow: hidden;\n",
       "  text-align: left;\n",
       "  /* unfitted */\n",
       "  background-color: var(--sklearn-color-unfitted-level-0);\n",
       "}\n",
       "\n",
       "#sk-container-id-2 div.sk-toggleable__content.fitted {\n",
       "  /* fitted */\n",
       "  background-color: var(--sklearn-color-fitted-level-0);\n",
       "}\n",
       "\n",
       "#sk-container-id-2 div.sk-toggleable__content pre {\n",
       "  margin: 0.2em;\n",
       "  border-radius: 0.25em;\n",
       "  color: var(--sklearn-color-text);\n",
       "  /* unfitted */\n",
       "  background-color: var(--sklearn-color-unfitted-level-0);\n",
       "}\n",
       "\n",
       "#sk-container-id-2 div.sk-toggleable__content.fitted pre {\n",
       "  /* unfitted */\n",
       "  background-color: var(--sklearn-color-fitted-level-0);\n",
       "}\n",
       "\n",
       "#sk-container-id-2 input.sk-toggleable__control:checked~div.sk-toggleable__content {\n",
       "  /* Expand drop-down */\n",
       "  max-height: 200px;\n",
       "  max-width: 100%;\n",
       "  overflow: auto;\n",
       "}\n",
       "\n",
       "#sk-container-id-2 input.sk-toggleable__control:checked~label.sk-toggleable__label-arrow:before {\n",
       "  content: \"▾\";\n",
       "}\n",
       "\n",
       "/* Pipeline/ColumnTransformer-specific style */\n",
       "\n",
       "#sk-container-id-2 div.sk-label input.sk-toggleable__control:checked~label.sk-toggleable__label {\n",
       "  color: var(--sklearn-color-text);\n",
       "  background-color: var(--sklearn-color-unfitted-level-2);\n",
       "}\n",
       "\n",
       "#sk-container-id-2 div.sk-label.fitted input.sk-toggleable__control:checked~label.sk-toggleable__label {\n",
       "  background-color: var(--sklearn-color-fitted-level-2);\n",
       "}\n",
       "\n",
       "/* Estimator-specific style */\n",
       "\n",
       "/* Colorize estimator box */\n",
       "#sk-container-id-2 div.sk-estimator input.sk-toggleable__control:checked~label.sk-toggleable__label {\n",
       "  /* unfitted */\n",
       "  background-color: var(--sklearn-color-unfitted-level-2);\n",
       "}\n",
       "\n",
       "#sk-container-id-2 div.sk-estimator.fitted input.sk-toggleable__control:checked~label.sk-toggleable__label {\n",
       "  /* fitted */\n",
       "  background-color: var(--sklearn-color-fitted-level-2);\n",
       "}\n",
       "\n",
       "#sk-container-id-2 div.sk-label label.sk-toggleable__label,\n",
       "#sk-container-id-2 div.sk-label label {\n",
       "  /* The background is the default theme color */\n",
       "  color: var(--sklearn-color-text-on-default-background);\n",
       "}\n",
       "\n",
       "/* On hover, darken the color of the background */\n",
       "#sk-container-id-2 div.sk-label:hover label.sk-toggleable__label {\n",
       "  color: var(--sklearn-color-text);\n",
       "  background-color: var(--sklearn-color-unfitted-level-2);\n",
       "}\n",
       "\n",
       "/* Label box, darken color on hover, fitted */\n",
       "#sk-container-id-2 div.sk-label.fitted:hover label.sk-toggleable__label.fitted {\n",
       "  color: var(--sklearn-color-text);\n",
       "  background-color: var(--sklearn-color-fitted-level-2);\n",
       "}\n",
       "\n",
       "/* Estimator label */\n",
       "\n",
       "#sk-container-id-2 div.sk-label label {\n",
       "  font-family: monospace;\n",
       "  font-weight: bold;\n",
       "  display: inline-block;\n",
       "  line-height: 1.2em;\n",
       "}\n",
       "\n",
       "#sk-container-id-2 div.sk-label-container {\n",
       "  text-align: center;\n",
       "}\n",
       "\n",
       "/* Estimator-specific */\n",
       "#sk-container-id-2 div.sk-estimator {\n",
       "  font-family: monospace;\n",
       "  border: 1px dotted var(--sklearn-color-border-box);\n",
       "  border-radius: 0.25em;\n",
       "  box-sizing: border-box;\n",
       "  margin-bottom: 0.5em;\n",
       "  /* unfitted */\n",
       "  background-color: var(--sklearn-color-unfitted-level-0);\n",
       "}\n",
       "\n",
       "#sk-container-id-2 div.sk-estimator.fitted {\n",
       "  /* fitted */\n",
       "  background-color: var(--sklearn-color-fitted-level-0);\n",
       "}\n",
       "\n",
       "/* on hover */\n",
       "#sk-container-id-2 div.sk-estimator:hover {\n",
       "  /* unfitted */\n",
       "  background-color: var(--sklearn-color-unfitted-level-2);\n",
       "}\n",
       "\n",
       "#sk-container-id-2 div.sk-estimator.fitted:hover {\n",
       "  /* fitted */\n",
       "  background-color: var(--sklearn-color-fitted-level-2);\n",
       "}\n",
       "\n",
       "/* Specification for estimator info (e.g. \"i\" and \"?\") */\n",
       "\n",
       "/* Common style for \"i\" and \"?\" */\n",
       "\n",
       ".sk-estimator-doc-link,\n",
       "a:link.sk-estimator-doc-link,\n",
       "a:visited.sk-estimator-doc-link {\n",
       "  float: right;\n",
       "  font-size: smaller;\n",
       "  line-height: 1em;\n",
       "  font-family: monospace;\n",
       "  background-color: var(--sklearn-color-background);\n",
       "  border-radius: 1em;\n",
       "  height: 1em;\n",
       "  width: 1em;\n",
       "  text-decoration: none !important;\n",
       "  margin-left: 1ex;\n",
       "  /* unfitted */\n",
       "  border: var(--sklearn-color-unfitted-level-1) 1pt solid;\n",
       "  color: var(--sklearn-color-unfitted-level-1);\n",
       "}\n",
       "\n",
       ".sk-estimator-doc-link.fitted,\n",
       "a:link.sk-estimator-doc-link.fitted,\n",
       "a:visited.sk-estimator-doc-link.fitted {\n",
       "  /* fitted */\n",
       "  border: var(--sklearn-color-fitted-level-1) 1pt solid;\n",
       "  color: var(--sklearn-color-fitted-level-1);\n",
       "}\n",
       "\n",
       "/* On hover */\n",
       "div.sk-estimator:hover .sk-estimator-doc-link:hover,\n",
       ".sk-estimator-doc-link:hover,\n",
       "div.sk-label-container:hover .sk-estimator-doc-link:hover,\n",
       ".sk-estimator-doc-link:hover {\n",
       "  /* unfitted */\n",
       "  background-color: var(--sklearn-color-unfitted-level-3);\n",
       "  color: var(--sklearn-color-background);\n",
       "  text-decoration: none;\n",
       "}\n",
       "\n",
       "div.sk-estimator.fitted:hover .sk-estimator-doc-link.fitted:hover,\n",
       ".sk-estimator-doc-link.fitted:hover,\n",
       "div.sk-label-container:hover .sk-estimator-doc-link.fitted:hover,\n",
       ".sk-estimator-doc-link.fitted:hover {\n",
       "  /* fitted */\n",
       "  background-color: var(--sklearn-color-fitted-level-3);\n",
       "  color: var(--sklearn-color-background);\n",
       "  text-decoration: none;\n",
       "}\n",
       "\n",
       "/* Span, style for the box shown on hovering the info icon */\n",
       ".sk-estimator-doc-link span {\n",
       "  display: none;\n",
       "  z-index: 9999;\n",
       "  position: relative;\n",
       "  font-weight: normal;\n",
       "  right: .2ex;\n",
       "  padding: .5ex;\n",
       "  margin: .5ex;\n",
       "  width: min-content;\n",
       "  min-width: 20ex;\n",
       "  max-width: 50ex;\n",
       "  color: var(--sklearn-color-text);\n",
       "  box-shadow: 2pt 2pt 4pt #999;\n",
       "  /* unfitted */\n",
       "  background: var(--sklearn-color-unfitted-level-0);\n",
       "  border: .5pt solid var(--sklearn-color-unfitted-level-3);\n",
       "}\n",
       "\n",
       ".sk-estimator-doc-link.fitted span {\n",
       "  /* fitted */\n",
       "  background: var(--sklearn-color-fitted-level-0);\n",
       "  border: var(--sklearn-color-fitted-level-3);\n",
       "}\n",
       "\n",
       ".sk-estimator-doc-link:hover span {\n",
       "  display: block;\n",
       "}\n",
       "\n",
       "/* \"?\"-specific style due to the `<a>` HTML tag */\n",
       "\n",
       "#sk-container-id-2 a.estimator_doc_link {\n",
       "  float: right;\n",
       "  font-size: 1rem;\n",
       "  line-height: 1em;\n",
       "  font-family: monospace;\n",
       "  background-color: var(--sklearn-color-background);\n",
       "  border-radius: 1rem;\n",
       "  height: 1rem;\n",
       "  width: 1rem;\n",
       "  text-decoration: none;\n",
       "  /* unfitted */\n",
       "  color: var(--sklearn-color-unfitted-level-1);\n",
       "  border: var(--sklearn-color-unfitted-level-1) 1pt solid;\n",
       "}\n",
       "\n",
       "#sk-container-id-2 a.estimator_doc_link.fitted {\n",
       "  /* fitted */\n",
       "  border: var(--sklearn-color-fitted-level-1) 1pt solid;\n",
       "  color: var(--sklearn-color-fitted-level-1);\n",
       "}\n",
       "\n",
       "/* On hover */\n",
       "#sk-container-id-2 a.estimator_doc_link:hover {\n",
       "  /* unfitted */\n",
       "  background-color: var(--sklearn-color-unfitted-level-3);\n",
       "  color: var(--sklearn-color-background);\n",
       "  text-decoration: none;\n",
       "}\n",
       "\n",
       "#sk-container-id-2 a.estimator_doc_link.fitted:hover {\n",
       "  /* fitted */\n",
       "  background-color: var(--sklearn-color-fitted-level-3);\n",
       "}\n",
       "</style><div id=\"sk-container-id-2\" class=\"sk-top-container\"><div class=\"sk-text-repr-fallback\"><pre>RandomForestClassifier(random_state=42)</pre><b>In a Jupyter environment, please rerun this cell to show the HTML representation or trust the notebook. <br />On GitHub, the HTML representation is unable to render, please try loading this page with nbviewer.org.</b></div><div class=\"sk-container\" hidden><div class=\"sk-item\"><div class=\"sk-estimator fitted sk-toggleable\"><input class=\"sk-toggleable__control sk-hidden--visually\" id=\"sk-estimator-id-2\" type=\"checkbox\" checked><label for=\"sk-estimator-id-2\" class=\"sk-toggleable__label fitted sk-toggleable__label-arrow fitted\">&nbsp;&nbsp;RandomForestClassifier<a class=\"sk-estimator-doc-link fitted\" rel=\"noreferrer\" target=\"_blank\" href=\"https://scikit-learn.org/1.5/modules/generated/sklearn.ensemble.RandomForestClassifier.html\">?<span>Documentation for RandomForestClassifier</span></a><span class=\"sk-estimator-doc-link fitted\">i<span>Fitted</span></span></label><div class=\"sk-toggleable__content fitted\"><pre>RandomForestClassifier(random_state=42)</pre></div> </div></div></div></div>"
      ],
      "text/plain": [
       "RandomForestClassifier(random_state=42)"
      ]
     },
     "execution_count": 140,
     "metadata": {},
     "output_type": "execute_result"
    }
   ],
   "source": [
    "rf = RandomForestClassifier(random_state=42)\n",
    "rf.fit(x_train_resampled, y_train_resampled)"
   ]
  },
  {
   "cell_type": "code",
   "execution_count": 141,
   "id": "a0c1f4c9",
   "metadata": {},
   "outputs": [
    {
     "name": "stdout",
     "output_type": "stream",
     "text": [
      "0    150\n",
      "1     50\n",
      "Name: ChurnStatus, dtype: int64\n"
     ]
    }
   ],
   "source": [
    "print(y_test.value_counts())"
   ]
  },
  {
   "cell_type": "code",
   "execution_count": 142,
   "id": "aa3ca66a",
   "metadata": {},
   "outputs": [],
   "source": [
    "x_test_resampled, y_test_resampled = smote.fit_resample(x_test, y_test)"
   ]
  },
  {
   "cell_type": "code",
   "execution_count": 143,
   "id": "8d757622",
   "metadata": {},
   "outputs": [
    {
     "name": "stdout",
     "output_type": "stream",
     "text": [
      "Accuracy Score: 0.71\n",
      "Precision Score: 0.36\n",
      "Recall Score: 0.18\n",
      "Confusion Matrix:\n",
      " [[134  16]\n",
      " [ 41   9]]\n",
      "Classification Report:\n",
      "               precision    recall  f1-score   support\n",
      "\n",
      "           0       0.77      0.89      0.82       150\n",
      "           1       0.36      0.18      0.24        50\n",
      "\n",
      "    accuracy                           0.71       200\n",
      "   macro avg       0.56      0.54      0.53       200\n",
      "weighted avg       0.66      0.71      0.68       200\n",
      "\n"
     ]
    }
   ],
   "source": [
    "# Evaluate the model on the test set\n",
    "y_pred = rf.predict(x_test)\n",
    "\n",
    "print(f\"Accuracy Score: {accuracy_score(y_test, y_pred):.2f}\")\n",
    "print(f\"Precision Score: {precision_score(y_test, y_pred):.2f}\")\n",
    "print(f\"Recall Score: {recall_score(y_test, y_pred):.2f}\")\n",
    "print(\"Confusion Matrix:\\n\", confusion_matrix(y_test, y_pred))\n",
    "print(\"Classification Report:\\n\", classification_report(y_test, y_pred))"
   ]
  },
  {
   "cell_type": "markdown",
   "id": "a45bc769",
   "metadata": {},
   "source": [
    "### Confusion Matrix"
   ]
  },
  {
   "cell_type": "code",
   "execution_count": 144,
   "id": "fc266416",
   "metadata": {},
   "outputs": [
    {
     "data": {
      "text/plain": [
       "<Figure size 1000x1000 with 0 Axes>"
      ]
     },
     "metadata": {},
     "output_type": "display_data"
    },
    {
     "data": {
      "image/png": "[encoded data removed]",
      "text/plain": [
       "<Figure size 640x480 with 2 Axes>"
      ]
     },
     "metadata": {},
     "output_type": "display_data"
    }
   ],
   "source": [
    "display_logit_grid = ConfusionMatrixDisplay(confusion_matrix = confusion_matrix(y_test, y_pred), display_labels=['No Churn (0)', 'Churn (1)'])\n",
    "\n",
    "plt.figure(figsize=(10,10))\n",
    "\n",
    "display_logit_grid.plot(cmap='Blues', values_format='.0f')\n",
    "plt.title('Confusion Matrix: Logistic Regression Grid Search')\n",
    "plt.show()"
   ]
  },
  {
   "cell_type": "code",
   "execution_count": null,
   "id": "23fee9b2",
   "metadata": {},
   "outputs": [],
   "source": []
  },
  {
   "cell_type": "markdown",
   "id": "5cec76ee",
   "metadata": {},
   "source": [
    "# 8. Saving Pickle file"
   ]
  },
  {
   "cell_type": "code",
   "execution_count": 145,
   "id": "8b25bc71",
   "metadata": {},
   "outputs": [],
   "source": [
    "# Save model and feature names as a dictionary\n",
    "model_data= {\"model\": rf, \"features_names\": x.columns.tolist()}\n",
    "\n",
    "# Save to file\n",
    "with open(\"/Users/yawdapaa/customer_churn_model.pkl\", \"wb\") as f:\n",
    "    pickle.dump(model_data, f)"
   ]
  },
  {
   "cell_type": "code",
   "execution_count": 146,
   "id": "d9bbf00c",
   "metadata": {},
   "outputs": [
    {
     "name": "stdout",
     "output_type": "stream",
     "text": [
      "RandomForestClassifier(random_state=42)\n",
      "['Age', 'Gender', 'MaritalStatus', 'IncomeLevel', 'TotalSpent', 'AvgSpent', 'TransactionCount', 'ServiceInteractions', 'InteractionType', 'UnresolvedIssues', 'LoginFrequency', 'ServiceUsage']\n"
     ]
    }
   ],
   "source": [
    "print(model_data[\"model\"])\n",
    "print(model_data[\"features_names\"])"
   ]
  },
  {
   "cell_type": "markdown",
   "id": "48de0c15",
   "metadata": {},
   "source": [
    "# 9. Load the Model and Predict with New Data"
   ]
  },
  {
   "cell_type": "code",
   "execution_count": 147,
   "id": "97be3d3e",
   "metadata": {},
   "outputs": [],
   "source": [
    "# load the saved model and features\n",
    "with open(\"/Users/yawdapaa/customer_churn_model.pkl\", \"rb\") as f:\n",
    "    model_data = pickle.load(f)\n",
    "\n",
    "loaded_model = model_data[\"model\"]\n",
    "features_names = model_data[\"features_names\"]"
   ]
  },
  {
   "cell_type": "code",
   "execution_count": 152,
   "id": "be4d27cd",
   "metadata": {},
   "outputs": [],
   "source": [
    "input_data = {\n",
    "    \"Age\": 42,\n",
    "    \"Gender\": \"M\",\n",
    "    \"MaritalStatus\": \"Divorced\",\n",
    "    \"IncomeLevel\": \"High\",\n",
    "    \"TotalSpent\": 7800.00,\n",
    "    \"AvgSpent\": 5200.75,\n",
    "    \"TransactionCount\": 95,\n",
    "    \"LastTransactionDate\": \"9/10/23\",\n",
    "    \"ServiceInteractions\": 5,\n",
    "    \"InteractionType\": 3,\n",
    "    \"UnresolvedIssues\": 2,\n",
    "    \"LastLoginDate\": \"10/5/23\",\n",
    "    \"LoginFrequency\": 20,\n",
    "    \"ServiceUsage\": \"Website\"\n",
    "}"
   ]
  },
  {
   "cell_type": "code",
   "execution_count": 153,
   "id": "70135f50",
   "metadata": {},
   "outputs": [
    {
     "data": {
      "application/vnd.microsoft.datawrangler.viewer.v0+json": {
       "columns": [
        {
         "name": "index",
         "rawType": "int64",
         "type": "integer"
        },
        {
         "name": "Age",
         "rawType": "int64",
         "type": "integer"
        },
        {
         "name": "Gender",
         "rawType": "object",
         "type": "string"
        },
        {
         "name": "MaritalStatus",
         "rawType": "object",
         "type": "string"
        },
        {
         "name": "IncomeLevel",
         "rawType": "object",
         "type": "string"
        },
        {
         "name": "TotalSpent",
         "rawType": "float64",
         "type": "float"
        },
        {
         "name": "AvgSpent",
         "rawType": "float64",
         "type": "float"
        },
        {
         "name": "TransactionCount",
         "rawType": "int64",
         "type": "integer"
        },
        {
         "name": "ServiceInteractions",
         "rawType": "int64",
         "type": "integer"
        },
        {
         "name": "InteractionType",
         "rawType": "int64",
         "type": "integer"
        },
        {
         "name": "UnresolvedIssues",
         "rawType": "int64",
         "type": "integer"
        },
        {
         "name": "LoginFrequency",
         "rawType": "int64",
         "type": "integer"
        },
        {
         "name": "ServiceUsage",
         "rawType": "object",
         "type": "string"
        }
       ],
       "conversionMethod": "pd.DataFrame",
       "ref": "aa7aec43-c58f-4fbb-b58d-37b1f284ee66",
       "rows": [
        [
         "0",
         "42",
         "M",
         "Divorced",
         "High",
         "7800.0",
         "5200.75",
         "95",
         "5",
         "3",
         "2",
         "20",
         "Website"
        ]
       ],
       "shape": {
        "columns": 12,
        "rows": 1
       }
      },
      "text/html": [
       "<div>\n",
       "<style scoped>\n",
       "    .dataframe tbody tr th:only-of-type {\n",
       "        vertical-align: middle;\n",
       "    }\n",
       "\n",
       "    .dataframe tbody tr th {\n",
       "        vertical-align: top;\n",
       "    }\n",
       "\n",
       "    .dataframe thead th {\n",
       "        text-align: right;\n",
       "    }\n",
       "</style>\n",
       "<table border=\"1\" class=\"dataframe\">\n",
       "  <thead>\n",
       "    <tr style=\"text-align: right;\">\n",
       "      <th></th>\n",
       "      <th>Age</th>\n",
       "      <th>Gender</th>\n",
       "      <th>MaritalStatus</th>\n",
       "      <th>IncomeLevel</th>\n",
       "      <th>TotalSpent</th>\n",
       "      <th>AvgSpent</th>\n",
       "      <th>TransactionCount</th>\n",
       "      <th>ServiceInteractions</th>\n",
       "      <th>InteractionType</th>\n",
       "      <th>UnresolvedIssues</th>\n",
       "      <th>LoginFrequency</th>\n",
       "      <th>ServiceUsage</th>\n",
       "    </tr>\n",
       "  </thead>\n",
       "  <tbody>\n",
       "    <tr>\n",
       "      <th>0</th>\n",
       "      <td>42</td>\n",
       "      <td>M</td>\n",
       "      <td>Divorced</td>\n",
       "      <td>High</td>\n",
       "      <td>7800.0</td>\n",
       "      <td>5200.75</td>\n",
       "      <td>95</td>\n",
       "      <td>5</td>\n",
       "      <td>3</td>\n",
       "      <td>2</td>\n",
       "      <td>20</td>\n",
       "      <td>Website</td>\n",
       "    </tr>\n",
       "  </tbody>\n",
       "</table>\n",
       "</div>"
      ],
      "text/plain": [
       "   Age Gender MaritalStatus IncomeLevel  TotalSpent  AvgSpent  \\\n",
       "0   42      M      Divorced        High      7800.0   5200.75   \n",
       "\n",
       "   TransactionCount  ServiceInteractions  InteractionType  UnresolvedIssues  \\\n",
       "0                95                    5                3                 2   \n",
       "\n",
       "   LoginFrequency ServiceUsage  \n",
       "0              20      Website  "
      ]
     },
     "execution_count": 153,
     "metadata": {},
     "output_type": "execute_result"
    }
   ],
   "source": [
    "# Filter input_data to only include keys present in feature_names\n",
    "filtered_input_data = {key: value for key, value in input_data.items() if key in features_names}\n",
    "\n",
    "# Convert to DataFrame\n",
    "input_df = pd.DataFrame([filtered_input_data])\n",
    "input_df"
   ]
  },
  {
   "cell_type": "code",
   "execution_count": 155,
   "id": "25f41edb",
   "metadata": {},
   "outputs": [],
   "source": [
    "# Load encoders\n",
    "with open(\"/Users/yawdapaa/encoders.pkl\", \"rb\") as f:\n",
    "    encoders = pickle.load(f)\n",
    "\n",
    "# Apply label encoding or other transformations\n",
    "for column in encoders.keys():\n",
    "    if column in input_df.columns:\n",
    "        input_df[column] = encoders[column].transform(input_df[column])\n",
    "    else:\n",
    "        # Optionally log or warn\n",
    "        print(f\"Warning: {column} not in input data — skipping transformation.\")"
   ]
  },
  {
   "cell_type": "code",
   "execution_count": 156,
   "id": "71b66e53",
   "metadata": {},
   "outputs": [
    {
     "name": "stdout",
     "output_type": "stream",
     "text": [
      "Prediction: [0]\n",
      "Prediction: Not Churn\n",
      "Probability of Churn: [[0.56 0.44]]\n"
     ]
    }
   ],
   "source": [
    "# Predict\n",
    "prediction = loaded_model.predict(input_df[features_names])\n",
    "prediction_proba = loaded_model.predict_proba(input_df[features_names])\n",
    "\n",
    "\n",
    "# results\n",
    "print(\"Prediction:\", prediction)\n",
    "print(f\"Prediction: {'Churn' if prediction[0] == 1 else 'Not Churn'}\")\n",
    "print(f\"Probability of Churn: {prediction_proba}\")"
   ]
  },
  {
   "cell_type": "code",
   "execution_count": null,
   "id": "933c7160",
   "metadata": {},
   "outputs": [],
   "source": []
  }
 ],
 "metadata": {
  "kernelspec": {
   "display_name": "base",
   "language": "python",
   "name": "python3"
  },
  "language_info": {
   "codemirror_mode": {
    "name": "ipython",
    "version": 3
   },
   "file_extension": ".py",
   "mimetype": "text/x-python",
   "name": "python",
   "nbconvert_exporter": "python",
   "pygments_lexer": "ipython3",
   "version": "3.12.4"
  }
 },
 "nbformat": 4,
 "nbformat_minor": 5
}
